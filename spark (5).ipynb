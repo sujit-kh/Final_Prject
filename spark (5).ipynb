{
 "cells": [
  {
   "cell_type": "code",
   "execution_count": 1,
   "id": "30510730-cc5e-4708-86e7-7a5b2a9f0c23",
   "metadata": {
    "execution": {
     "iopub.execute_input": "2022-09-29T14:26:19.952934Z",
     "iopub.status.busy": "2022-09-29T14:26:19.952772Z",
     "iopub.status.idle": "2022-09-29T14:26:53.794628Z",
     "shell.execute_reply": "2022-09-29T14:26:53.794087Z",
     "shell.execute_reply.started": "2022-09-29T14:26:19.952912Z"
    }
   },
   "outputs": [
    {
     "data": {
      "application/vnd.jupyter.widget-view+json": {
       "model_id": "95f1a419903e41cbaade38e7360869b0",
       "version_major": 2,
       "version_minor": 0
      },
      "text/plain": [
       "VBox()"
      ]
     },
     "metadata": {},
     "output_type": "display_data"
    },
    {
     "name": "stdout",
     "output_type": "stream",
     "text": [
      "Starting Spark application\n"
     ]
    },
    {
     "data": {
      "text/html": [
       "<table>\n",
       "<tr><th>ID</th><th>YARN Application ID</th><th>Kind</th><th>State</th><th>Spark UI</th><th>Driver log</th><th>User</th><th>Current session?</th></tr><tr><td>0</td><td>application_1664453770396_0001</td><td>pyspark</td><td>idle</td><td><a target=\"_blank\" href=\"http://ip-172-31-46-24.ec2.internal:20888/proxy/application_1664453770396_0001/\" class=\"emr-proxy-link\" emr-resource=\"j-32BP6CT264PEW\n",
       "\" application-id=\"application_1664453770396_0001\">Link</a></td><td><a target=\"_blank\" href=\"http://ip-172-31-46-24.ec2.internal:8042/node/containerlogs/container_1664453770396_0001_01_000001/livy\" >Link</a></td><td>None</td><td>✔</td></tr></table>"
      ],
      "text/plain": [
       "<IPython.core.display.HTML object>"
      ]
     },
     "metadata": {},
     "output_type": "display_data"
    },
    {
     "data": {
      "application/vnd.jupyter.widget-view+json": {
       "model_id": "",
       "version_major": 2,
       "version_minor": 0
      },
      "text/plain": [
       "FloatProgress(value=0.0, bar_style='info', description='Progress:', layout=Layout(height='25px', width='50%'),…"
      ]
     },
     "metadata": {},
     "output_type": "display_data"
    },
    {
     "name": "stdout",
     "output_type": "stream",
     "text": [
      "SparkSession available as 'spark'.\n"
     ]
    },
    {
     "data": {
      "application/vnd.jupyter.widget-view+json": {
       "model_id": "",
       "version_major": 2,
       "version_minor": 0
      },
      "text/plain": [
       "FloatProgress(value=0.0, bar_style='info', description='Progress:', layout=Layout(height='25px', width='50%'),…"
      ]
     },
     "metadata": {},
     "output_type": "display_data"
    }
   ],
   "source": [
    "%spark"
   ]
  },
  {
   "cell_type": "code",
   "execution_count": 2,
   "id": "8222beaa-b659-4e82-97a4-9d85c1b93762",
   "metadata": {
    "execution": {
     "iopub.execute_input": "2022-09-29T14:26:53.795835Z",
     "iopub.status.busy": "2022-09-29T14:26:53.795660Z",
     "iopub.status.idle": "2022-09-29T14:26:54.595931Z",
     "shell.execute_reply": "2022-09-29T14:26:54.595004Z",
     "shell.execute_reply.started": "2022-09-29T14:26:53.795807Z"
    }
   },
   "outputs": [
    {
     "data": {
      "application/vnd.jupyter.widget-view+json": {
       "model_id": "9c2849e84cbb40f08f3505d54d474fe5",
       "version_major": 2,
       "version_minor": 0
      },
      "text/plain": [
       "VBox()"
      ]
     },
     "metadata": {},
     "output_type": "display_data"
    },
    {
     "data": {
      "application/vnd.jupyter.widget-view+json": {
       "model_id": "",
       "version_major": 2,
       "version_minor": 0
      },
      "text/plain": [
       "FloatProgress(value=0.0, bar_style='info', description='Progress:', layout=Layout(height='25px', width='50%'),…"
      ]
     },
     "metadata": {},
     "output_type": "display_data"
    }
   ],
   "source": [
    "rdd = sc.textFile(\"s3://team5project/final_project_data_1.csv\")"
   ]
  },
  {
   "cell_type": "code",
   "execution_count": 3,
   "id": "313f1ddb-5acc-40d1-a30a-a5579220560c",
   "metadata": {
    "execution": {
     "iopub.execute_input": "2022-09-29T14:26:54.597958Z",
     "iopub.status.busy": "2022-09-29T14:26:54.597692Z",
     "iopub.status.idle": "2022-09-29T14:27:06.344123Z",
     "shell.execute_reply": "2022-09-29T14:27:06.343403Z",
     "shell.execute_reply.started": "2022-09-29T14:26:54.597922Z"
    }
   },
   "outputs": [
    {
     "data": {
      "application/vnd.jupyter.widget-view+json": {
       "model_id": "28bca4f0fbe8452bb0e16cc16c98175b",
       "version_major": 2,
       "version_minor": 0
      },
      "text/plain": [
       "VBox()"
      ]
     },
     "metadata": {},
     "output_type": "display_data"
    },
    {
     "data": {
      "application/vnd.jupyter.widget-view+json": {
       "model_id": "",
       "version_major": 2,
       "version_minor": 0
      },
      "text/plain": [
       "FloatProgress(value=0.0, bar_style='info', description='Progress:', layout=Layout(height='25px', width='50%'),…"
      ]
     },
     "metadata": {},
     "output_type": "display_data"
    },
    {
     "name": "stdout",
     "output_type": "stream",
     "text": [
      "1157802"
     ]
    }
   ],
   "source": [
    "rdd.count()"
   ]
  },
  {
   "cell_type": "code",
   "execution_count": 4,
   "id": "dc0cb999-cf62-4ea9-bf41-a6d28a413579",
   "metadata": {
    "execution": {
     "iopub.execute_input": "2022-09-29T14:27:06.345384Z",
     "iopub.status.busy": "2022-09-29T14:27:06.345207Z",
     "iopub.status.idle": "2022-09-29T14:27:07.648267Z",
     "shell.execute_reply": "2022-09-29T14:27:07.647574Z",
     "shell.execute_reply.started": "2022-09-29T14:27:06.345358Z"
    }
   },
   "outputs": [
    {
     "data": {
      "application/vnd.jupyter.widget-view+json": {
       "model_id": "fb40e9d625544629affb504dadc283e2",
       "version_major": 2,
       "version_minor": 0
      },
      "text/plain": [
       "VBox()"
      ]
     },
     "metadata": {},
     "output_type": "display_data"
    },
    {
     "data": {
      "application/vnd.jupyter.widget-view+json": {
       "model_id": "",
       "version_major": 2,
       "version_minor": 0
      },
      "text/plain": [
       "FloatProgress(value=0.0, bar_style='info', description='Progress:', layout=Layout(height='25px', width='50%'),…"
      ]
     },
     "metadata": {},
     "output_type": "display_data"
    },
    {
     "name": "stdout",
     "output_type": "stream",
     "text": [
      "',Unnamed: 0,Age,Attrition,BusinessTravel,DailyRate,Department,DistanceFromHome,Education,EducationField,EmployeeCount,EmployeeNumber,EnvironmentSatisfaction,Gender,HourlyRate,JobInvolvement,JobLevel,JobRole,JobSatisfaction,MaritalStatus,MonthlyIncome,MonthlyRate,NumCompaniesWorked,Over18,OverTime,PercentSalaryHike,PerformanceRating,RelationshipSatisfaction,StandardHours,StockOptionLevel,TotalWorkingYears,TrainingTimesLastYear,WorkLifeBalance,YearsAtCompany,YearsInCurrentRole,YearsSinceLastPromotion,YearsWithCurrManager,Unnamed: 0.1,Unnamed: 0.1.1,Unnamed: 0.1.1.1'"
     ]
    }
   ],
   "source": [
    "header = rdd.first()\n",
    "header"
   ]
  },
  {
   "cell_type": "code",
   "execution_count": 5,
   "id": "78dd1328-433d-4ff8-9b74-fea78f754606",
   "metadata": {
    "execution": {
     "iopub.execute_input": "2022-09-29T14:27:07.649346Z",
     "iopub.status.busy": "2022-09-29T14:27:07.649176Z",
     "iopub.status.idle": "2022-09-29T14:27:07.718746Z",
     "shell.execute_reply": "2022-09-29T14:27:07.718156Z",
     "shell.execute_reply.started": "2022-09-29T14:27:07.649325Z"
    },
    "tags": []
   },
   "outputs": [
    {
     "data": {
      "application/vnd.jupyter.widget-view+json": {
       "model_id": "7100570c80eb4069bf71a4c4e937d710",
       "version_major": 2,
       "version_minor": 0
      },
      "text/plain": [
       "VBox()"
      ]
     },
     "metadata": {},
     "output_type": "display_data"
    },
    {
     "data": {
      "application/vnd.jupyter.widget-view+json": {
       "model_id": "",
       "version_major": 2,
       "version_minor": 0
      },
      "text/plain": [
       "FloatProgress(value=0.0, bar_style='info', description='Progress:', layout=Layout(height='25px', width='50%'),…"
      ]
     },
     "metadata": {},
     "output_type": "display_data"
    }
   ],
   "source": [
    "rdd1 = rdd.filter(lambda a : a!=header)"
   ]
  },
  {
   "cell_type": "code",
   "execution_count": 6,
   "id": "0ead7cb4-c979-48e4-8420-387013f9843d",
   "metadata": {
    "execution": {
     "iopub.execute_input": "2022-09-29T14:27:07.719823Z",
     "iopub.status.busy": "2022-09-29T14:27:07.719630Z",
     "iopub.status.idle": "2022-09-29T14:27:08.000702Z",
     "shell.execute_reply": "2022-09-29T14:27:08.000124Z",
     "shell.execute_reply.started": "2022-09-29T14:27:07.719800Z"
    },
    "tags": []
   },
   "outputs": [
    {
     "data": {
      "application/vnd.jupyter.widget-view+json": {
       "model_id": "1c572375fa8d40e4b3744f776688eed1",
       "version_major": 2,
       "version_minor": 0
      },
      "text/plain": [
       "VBox()"
      ]
     },
     "metadata": {},
     "output_type": "display_data"
    },
    {
     "data": {
      "application/vnd.jupyter.widget-view+json": {
       "model_id": "",
       "version_major": 2,
       "version_minor": 0
      },
      "text/plain": [
       "FloatProgress(value=0.0, bar_style='info', description='Progress:', layout=Layout(height='25px', width='50%'),…"
      ]
     },
     "metadata": {},
     "output_type": "display_data"
    },
    {
     "name": "stdout",
     "output_type": "stream",
     "text": [
      "350675,354500,56,Yes,Non-Travel,1421,Support,17,5,Medical,1,251066,2,Female,142,1,1,Laboratory Technician,1,Married,25927,648175,1,Y,No,17,2,4,80,2,2,6,1,2,1,1,2,,,\n",
      "523345,527175,31,No,Travel_Rarely,981,Support,14,1,Life Sciences,1,226543,2,Female,134,1,4,Life Sciences,4,Divorced,43610,566930,0,Y,Yes,26,1,2,80,1,33,1,2,22,11,18,25,,,\n",
      "21,21,36,Yes,Travel_Rarely,1218,Sales,9,4,Life Sciences,1,27,3,Male,82,2,1,Sales Representative,1,Single,3407,6986,7,Y,No,23,4,2,80,0,10,4,3,5,3,0,3,,,\n",
      "386001,389827,40,Yes,Travel_Frequently,444,Hardware,10,1,Marketing,1,112559,1,Female,111,1,4,Laboratory Technician,1,Married,18279,650741,2,Y,Yes,44,1,1,80,4,40,5,1,22,21,7,27,,,\n",
      "878690,882926,27,Yes,Travel_Frequently,343,Sales,50,3,Life Sciences,1,733601,2,Male,169,1,3,Healthcare Representative,2,Married,32380,453320,7,Y,No,5,1,2,80,3,3,2,1,3,2,3,2,,,"
     ]
    }
   ],
   "source": [
    "for i in rdd1.take(5):\n",
    "    print(i)"
   ]
  },
  {
   "cell_type": "code",
   "execution_count": 7,
   "id": "90ff4f0c-a851-4f46-b62c-f6763bb1068e",
   "metadata": {
    "execution": {
     "iopub.execute_input": "2022-09-29T14:27:08.001826Z",
     "iopub.status.busy": "2022-09-29T14:27:08.001535Z",
     "iopub.status.idle": "2022-09-29T14:27:10.299084Z",
     "shell.execute_reply": "2022-09-29T14:27:10.298487Z",
     "shell.execute_reply.started": "2022-09-29T14:27:08.001801Z"
    },
    "tags": []
   },
   "outputs": [
    {
     "data": {
      "application/vnd.jupyter.widget-view+json": {
       "model_id": "49827479fb1949da94b3b39c3bde6968",
       "version_major": 2,
       "version_minor": 0
      },
      "text/plain": [
       "VBox()"
      ]
     },
     "metadata": {},
     "output_type": "display_data"
    },
    {
     "data": {
      "application/vnd.jupyter.widget-view+json": {
       "model_id": "",
       "version_major": 2,
       "version_minor": 0
      },
      "text/plain": [
       "FloatProgress(value=0.0, bar_style='info', description='Progress:', layout=Layout(height='25px', width='50%'),…"
      ]
     },
     "metadata": {},
     "output_type": "display_data"
    },
    {
     "name": "stdout",
     "output_type": "stream",
     "text": [
      "['350675', '354500', '56', 'Yes', 'Non-Travel', '1421', 'Support', '17', '5', 'Medical', '1', '251066', '2', 'Female', '142', '1', '1', 'Laboratory Technician', '1', 'Married', '25927', '648175', '1', 'Y', 'No', '17', '2', '4', '80', '2', '2', '6', '1', '2', '1', '1', '2', '', '', '']\n",
      "['523345', '527175', '31', 'No', 'Travel_Rarely', '981', 'Support', '14', '1', 'Life Sciences', '1', '226543', '2', 'Female', '134', '1', '4', 'Life Sciences', '4', 'Divorced', '43610', '566930', '0', 'Y', 'Yes', '26', '1', '2', '80', '1', '33', '1', '2', '22', '11', '18', '25', '', '', '']\n",
      "['21', '21', '36', 'Yes', 'Travel_Rarely', '1218', 'Sales', '9', '4', 'Life Sciences', '1', '27', '3', 'Male', '82', '2', '1', 'Sales Representative', '1', 'Single', '3407', '6986', '7', 'Y', 'No', '23', '4', '2', '80', '0', '10', '4', '3', '5', '3', '0', '3', '', '', '']\n",
      "['386001', '389827', '40', 'Yes', 'Travel_Frequently', '444', 'Hardware', '10', '1', 'Marketing', '1', '112559', '1', 'Female', '111', '1', '4', 'Laboratory Technician', '1', 'Married', '18279', '650741', '2', 'Y', 'Yes', '44', '1', '1', '80', '4', '40', '5', '1', '22', '21', '7', '27', '', '', '']\n",
      "['878690', '882926', '27', 'Yes', 'Travel_Frequently', '343', 'Sales', '50', '3', 'Life Sciences', '1', '733601', '2', 'Male', '169', '1', '3', 'Healthcare Representative', '2', 'Married', '32380', '453320', '7', 'Y', 'No', '5', '1', '2', '80', '3', '3', '2', '1', '3', '2', '3', '2', '', '', '']"
     ]
    }
   ],
   "source": [
    "rdd2 = rdd1.map(lambda a : a.split(\",\"))\n",
    "for i in rdd2.take(5):\n",
    "    print(i)"
   ]
  },
  {
   "cell_type": "code",
   "execution_count": 8,
   "id": "20b574b4-67d2-44f7-b60e-2c135471be99",
   "metadata": {
    "execution": {
     "iopub.execute_input": "2022-09-29T14:27:10.302672Z",
     "iopub.status.busy": "2022-09-29T14:27:10.302456Z",
     "iopub.status.idle": "2022-09-29T14:27:10.521545Z",
     "shell.execute_reply": "2022-09-29T14:27:10.520051Z",
     "shell.execute_reply.started": "2022-09-29T14:27:10.302640Z"
    },
    "tags": []
   },
   "outputs": [
    {
     "data": {
      "application/vnd.jupyter.widget-view+json": {
       "model_id": "0cb466a9165a490fbfb9d997997b19b4",
       "version_major": 2,
       "version_minor": 0
      },
      "text/plain": [
       "VBox()"
      ]
     },
     "metadata": {},
     "output_type": "display_data"
    },
    {
     "data": {
      "application/vnd.jupyter.widget-view+json": {
       "model_id": "",
       "version_major": 2,
       "version_minor": 0
      },
      "text/plain": [
       "FloatProgress(value=0.0, bar_style='info', description='Progress:', layout=Layout(height='25px', width='50%'),…"
      ]
     },
     "metadata": {},
     "output_type": "display_data"
    }
   ],
   "source": [
    "rdd3 = rdd2.map(lambda a :(a[2],a[3],a[4],a[5],a[6],a[7],a[8],a[9],a[10],a[11],a[12],a[13],a[14],a[15],a[16],a[17],a[18],a[19],a[20],a[21],a[22],a[23],a[24],a[25],a[26],a[27],a[28],a[29],a[30],a[31],a[32],a[33],a[34],a[35],a[36]))"
   ]
  },
  {
   "cell_type": "code",
   "execution_count": 9,
   "id": "baa2ff10-9d80-4777-9eaa-d66581fd6308",
   "metadata": {
    "execution": {
     "iopub.execute_input": "2022-09-29T14:27:10.522943Z",
     "iopub.status.busy": "2022-09-29T14:27:10.522764Z",
     "iopub.status.idle": "2022-09-29T14:27:12.844069Z",
     "shell.execute_reply": "2022-09-29T14:27:12.842964Z",
     "shell.execute_reply.started": "2022-09-29T14:27:10.522921Z"
    },
    "tags": []
   },
   "outputs": [
    {
     "data": {
      "application/vnd.jupyter.widget-view+json": {
       "model_id": "d2fef7fb57f34f41aadbcc7120786912",
       "version_major": 2,
       "version_minor": 0
      },
      "text/plain": [
       "VBox()"
      ]
     },
     "metadata": {},
     "output_type": "display_data"
    },
    {
     "data": {
      "application/vnd.jupyter.widget-view+json": {
       "model_id": "",
       "version_major": 2,
       "version_minor": 0
      },
      "text/plain": [
       "FloatProgress(value=0.0, bar_style='info', description='Progress:', layout=Layout(height='25px', width='50%'),…"
      ]
     },
     "metadata": {},
     "output_type": "display_data"
    },
    {
     "name": "stdout",
     "output_type": "stream",
     "text": [
      "('56', 'Yes', 'Non-Travel', '1421', 'Support', '17', '5', 'Medical', '1', '251066', '2', 'Female', '142', '1', '1', 'Laboratory Technician', '1', 'Married', '25927', '648175', '1', 'Y', 'No', '17', '2', '4', '80', '2', '2', '6', '1', '2', '1', '1', '2')\n",
      "('31', 'No', 'Travel_Rarely', '981', 'Support', '14', '1', 'Life Sciences', '1', '226543', '2', 'Female', '134', '1', '4', 'Life Sciences', '4', 'Divorced', '43610', '566930', '0', 'Y', 'Yes', '26', '1', '2', '80', '1', '33', '1', '2', '22', '11', '18', '25')\n",
      "('36', 'Yes', 'Travel_Rarely', '1218', 'Sales', '9', '4', 'Life Sciences', '1', '27', '3', 'Male', '82', '2', '1', 'Sales Representative', '1', 'Single', '3407', '6986', '7', 'Y', 'No', '23', '4', '2', '80', '0', '10', '4', '3', '5', '3', '0', '3')\n",
      "('40', 'Yes', 'Travel_Frequently', '444', 'Hardware', '10', '1', 'Marketing', '1', '112559', '1', 'Female', '111', '1', '4', 'Laboratory Technician', '1', 'Married', '18279', '650741', '2', 'Y', 'Yes', '44', '1', '1', '80', '4', '40', '5', '1', '22', '21', '7', '27')\n",
      "('27', 'Yes', 'Travel_Frequently', '343', 'Sales', '50', '3', 'Life Sciences', '1', '733601', '2', 'Male', '169', '1', '3', 'Healthcare Representative', '2', 'Married', '32380', '453320', '7', 'Y', 'No', '5', '1', '2', '80', '3', '3', '2', '1', '3', '2', '3', '2')"
     ]
    }
   ],
   "source": [
    "for i in rdd3.take(5):\n",
    "    print(i)"
   ]
  },
  {
   "cell_type": "code",
   "execution_count": 10,
   "id": "85424445-ced0-46de-94ab-ca87c3b49e10",
   "metadata": {
    "execution": {
     "iopub.execute_input": "2022-09-29T14:27:12.852148Z",
     "iopub.status.busy": "2022-09-29T14:27:12.845182Z",
     "iopub.status.idle": "2022-09-29T14:27:13.088084Z",
     "shell.execute_reply": "2022-09-29T14:27:13.087351Z",
     "shell.execute_reply.started": "2022-09-29T14:27:12.852109Z"
    },
    "tags": []
   },
   "outputs": [
    {
     "data": {
      "application/vnd.jupyter.widget-view+json": {
       "model_id": "aa4917f1547a4fbf9514a22956a10f86",
       "version_major": 2,
       "version_minor": 0
      },
      "text/plain": [
       "VBox()"
      ]
     },
     "metadata": {},
     "output_type": "display_data"
    },
    {
     "data": {
      "application/vnd.jupyter.widget-view+json": {
       "model_id": "",
       "version_major": 2,
       "version_minor": 0
      },
      "text/plain": [
       "FloatProgress(value=0.0, bar_style='info', description='Progress:', layout=Layout(height='25px', width='50%'),…"
      ]
     },
     "metadata": {},
     "output_type": "display_data"
    }
   ],
   "source": [
    "rdd5 =rdd3.map(lambda a :(int(a[0]),a[1],a[2],int(a[3]),a[4],int(a[5]),int(a[6]),a[7],int(a[8]),int(a[9]),int(a[10]),a[11],int(a[12]),int(a[13]),int(a[14]),a[15],int(a[16]),a[17],int(a[18]),int(a[19]),int(a[20]),a[21],a[22],int(a[23]),int(a[24]),int(a[25]),int(a[26]),int(a[27]),int(a[28]),int(a[29]),int(a[30]),int(a[31]),int(a[32]),int(a[33]),int(a[34])))"
   ]
  },
  {
   "cell_type": "code",
   "execution_count": 11,
   "id": "8136bf82-1e5d-473f-b561-d397bac34967",
   "metadata": {
    "execution": {
     "iopub.execute_input": "2022-09-29T14:27:13.089490Z",
     "iopub.status.busy": "2022-09-29T14:27:13.089241Z",
     "iopub.status.idle": "2022-09-29T14:27:13.373016Z",
     "shell.execute_reply": "2022-09-29T14:27:13.372288Z",
     "shell.execute_reply.started": "2022-09-29T14:27:13.089457Z"
    },
    "tags": []
   },
   "outputs": [
    {
     "data": {
      "application/vnd.jupyter.widget-view+json": {
       "model_id": "7450f9dc5c5f48adaf4b3eabc8b69a2a",
       "version_major": 2,
       "version_minor": 0
      },
      "text/plain": [
       "VBox()"
      ]
     },
     "metadata": {},
     "output_type": "display_data"
    },
    {
     "data": {
      "application/vnd.jupyter.widget-view+json": {
       "model_id": "",
       "version_major": 2,
       "version_minor": 0
      },
      "text/plain": [
       "FloatProgress(value=0.0, bar_style='info', description='Progress:', layout=Layout(height='25px', width='50%'),…"
      ]
     },
     "metadata": {},
     "output_type": "display_data"
    },
    {
     "name": "stdout",
     "output_type": "stream",
     "text": [
      "[(56, 'Yes', 'Non-Travel', 1421, 'Support', 17, 5, 'Medical', 1, 251066, 2, 'Female', 142, 1, 1, 'Laboratory Technician', 1, 'Married', 25927, 648175, 1, 'Y', 'No', 17, 2, 4, 80, 2, 2, 6, 1, 2, 1, 1, 2), (31, 'No', 'Travel_Rarely', 981, 'Support', 14, 1, 'Life Sciences', 1, 226543, 2, 'Female', 134, 1, 4, 'Life Sciences', 4, 'Divorced', 43610, 566930, 0, 'Y', 'Yes', 26, 1, 2, 80, 1, 33, 1, 2, 22, 11, 18, 25), (36, 'Yes', 'Travel_Rarely', 1218, 'Sales', 9, 4, 'Life Sciences', 1, 27, 3, 'Male', 82, 2, 1, 'Sales Representative', 1, 'Single', 3407, 6986, 7, 'Y', 'No', 23, 4, 2, 80, 0, 10, 4, 3, 5, 3, 0, 3), (40, 'Yes', 'Travel_Frequently', 444, 'Hardware', 10, 1, 'Marketing', 1, 112559, 1, 'Female', 111, 1, 4, 'Laboratory Technician', 1, 'Married', 18279, 650741, 2, 'Y', 'Yes', 44, 1, 1, 80, 4, 40, 5, 1, 22, 21, 7, 27), (27, 'Yes', 'Travel_Frequently', 343, 'Sales', 50, 3, 'Life Sciences', 1, 733601, 2, 'Male', 169, 1, 3, 'Healthcare Representative', 2, 'Married', 32380, 453320, 7, 'Y', 'No', 5, 1, 2, 80, 3, 3, 2, 1, 3, 2, 3, 2)]"
     ]
    }
   ],
   "source": [
    "rdd5.take(5)"
   ]
  },
  {
   "cell_type": "code",
   "execution_count": 12,
   "id": "a3b37c15-579d-472f-a215-3ceda6435d12",
   "metadata": {
    "execution": {
     "iopub.execute_input": "2022-09-29T14:27:13.374064Z",
     "iopub.status.busy": "2022-09-29T14:27:13.373899Z",
     "iopub.status.idle": "2022-09-29T14:27:13.443169Z",
     "shell.execute_reply": "2022-09-29T14:27:13.442460Z",
     "shell.execute_reply.started": "2022-09-29T14:27:13.374043Z"
    },
    "tags": []
   },
   "outputs": [
    {
     "data": {
      "application/vnd.jupyter.widget-view+json": {
       "model_id": "b0e164cc18bd459ba8859241758e026c",
       "version_major": 2,
       "version_minor": 0
      },
      "text/plain": [
       "VBox()"
      ]
     },
     "metadata": {},
     "output_type": "display_data"
    },
    {
     "data": {
      "application/vnd.jupyter.widget-view+json": {
       "model_id": "",
       "version_major": 2,
       "version_minor": 0
      },
      "text/plain": [
       "FloatProgress(value=0.0, bar_style='info', description='Progress:', layout=Layout(height='25px', width='50%'),…"
      ]
     },
     "metadata": {},
     "output_type": "display_data"
    }
   ],
   "source": [
    "from pyspark.sql.types import StructType, StringType, IntegerType, DoubleType, LongType,StructField"
   ]
  },
  {
   "cell_type": "code",
   "execution_count": 13,
   "id": "52798c2a-cd03-499a-bf85-4af7ea7e5c0b",
   "metadata": {
    "execution": {
     "iopub.execute_input": "2022-09-29T14:27:13.444352Z",
     "iopub.status.busy": "2022-09-29T14:27:13.444166Z",
     "iopub.status.idle": "2022-09-29T14:27:13.507286Z",
     "shell.execute_reply": "2022-09-29T14:27:13.506734Z",
     "shell.execute_reply.started": "2022-09-29T14:27:13.444331Z"
    },
    "tags": []
   },
   "outputs": [
    {
     "data": {
      "application/vnd.jupyter.widget-view+json": {
       "model_id": "b5869bd9a8f048a488ef9ff8cf29403b",
       "version_major": 2,
       "version_minor": 0
      },
      "text/plain": [
       "VBox()"
      ]
     },
     "metadata": {},
     "output_type": "display_data"
    },
    {
     "data": {
      "application/vnd.jupyter.widget-view+json": {
       "model_id": "",
       "version_major": 2,
       "version_minor": 0
      },
      "text/plain": [
       "FloatProgress(value=0.0, bar_style='info', description='Progress:', layout=Layout(height='25px', width='50%'),…"
      ]
     },
     "metadata": {},
     "output_type": "display_data"
    }
   ],
   "source": [
    "schema1 = StructType().add(\"Age\",IntegerType(),True).add(\"Attrition\",StringType(),True).add(\"BusinessTravel\",StringType(),True).add(\"DailyRate\",IntegerType(),True).add(\"Department\",StringType(),True).add(\"DistanceFromHome\",IntegerType(),True).add(\"Education\",IntegerType(),True).add(\"EducationField\",StringType(),True).add(\"EmployeeCount\",IntegerType(),True).add(\"EmployeeNumber\",IntegerType(),True).add(\"EnvironmentSatisfaction\",IntegerType(),True).add(\"Gender\",StringType(),True).add(\"HourlyRate\",IntegerType(),True).add(\"JobInvolvement\",IntegerType(),True).add(\"JobLevel\",IntegerType(),True).add(\"JobRole\",StringType(),True).add(\"JobSatisfaction\",IntegerType(),True).add(\"MaritalStatus\",StringType(),True).add(\"MonthlyIncome\",IntegerType(),True).add(\"MonthlyRate\",IntegerType(),True).add(\"NumCompaniesWorked\",IntegerType(),True).add(\"Over18\",StringType(),True).add(\"OverTime\",StringType(),True).add(\"PercentSalaryHike\",IntegerType(),True).add(\"PerformanceRating\",IntegerType(),True).add(\"RelationshipSatisfaction\",IntegerType(),True).add(\"StandardHours\",IntegerType(),True).add(\"StockOptionLevel\",IntegerType(),True).add(\"TotalWorkingYears\",IntegerType(),True).add(\"TrainingTimesLastYear\",IntegerType(),True).add(\"WorkLifeBalance\",IntegerType(),True).add(\"YearsAtCompany\",IntegerType(),True).add(\"YearsInCurrentRole\",IntegerType(),True).add(\"YearsSinceLastPromotion\",IntegerType(),True).add(\"YearsWithCurrManager\",IntegerType(),True)"
   ]
  },
  {
   "cell_type": "code",
   "execution_count": 14,
   "id": "3d380975-1010-4767-8ea1-5b1013941ba0",
   "metadata": {
    "execution": {
     "iopub.execute_input": "2022-09-29T14:27:13.508312Z",
     "iopub.status.busy": "2022-09-29T14:27:13.508146Z",
     "iopub.status.idle": "2022-09-29T14:27:14.806594Z",
     "shell.execute_reply": "2022-09-29T14:27:14.806011Z",
     "shell.execute_reply.started": "2022-09-29T14:27:13.508291Z"
    },
    "tags": []
   },
   "outputs": [
    {
     "data": {
      "application/vnd.jupyter.widget-view+json": {
       "model_id": "272fcb1884a84e10b35ffd9bdbbfb5b1",
       "version_major": 2,
       "version_minor": 0
      },
      "text/plain": [
       "VBox()"
      ]
     },
     "metadata": {},
     "output_type": "display_data"
    },
    {
     "data": {
      "application/vnd.jupyter.widget-view+json": {
       "model_id": "",
       "version_major": 2,
       "version_minor": 0
      },
      "text/plain": [
       "FloatProgress(value=0.0, bar_style='info', description='Progress:', layout=Layout(height='25px', width='50%'),…"
      ]
     },
     "metadata": {},
     "output_type": "display_data"
    }
   ],
   "source": [
    "df1 = sqlContext.createDataFrame(rdd5, schema1)"
   ]
  },
  {
   "cell_type": "code",
   "execution_count": 15,
   "id": "bb984645-3a28-4d1a-9cbb-57ecb7a33e59",
   "metadata": {
    "execution": {
     "iopub.execute_input": "2022-09-29T14:27:14.807876Z",
     "iopub.status.busy": "2022-09-29T14:27:14.807629Z",
     "iopub.status.idle": "2022-09-29T14:27:15.083768Z",
     "shell.execute_reply": "2022-09-29T14:27:15.083070Z",
     "shell.execute_reply.started": "2022-09-29T14:27:14.807842Z"
    },
    "tags": []
   },
   "outputs": [
    {
     "data": {
      "application/vnd.jupyter.widget-view+json": {
       "model_id": "650ec1c284c0423cb5c5d329375e082d",
       "version_major": 2,
       "version_minor": 0
      },
      "text/plain": [
       "VBox()"
      ]
     },
     "metadata": {},
     "output_type": "display_data"
    },
    {
     "data": {
      "application/vnd.jupyter.widget-view+json": {
       "model_id": "",
       "version_major": 2,
       "version_minor": 0
      },
      "text/plain": [
       "FloatProgress(value=0.0, bar_style='info', description='Progress:', layout=Layout(height='25px', width='50%'),…"
      ]
     },
     "metadata": {},
     "output_type": "display_data"
    },
    {
     "name": "stdout",
     "output_type": "stream",
     "text": [
      "root\n",
      " |-- Age: integer (nullable = true)\n",
      " |-- Attrition: string (nullable = true)\n",
      " |-- BusinessTravel: string (nullable = true)\n",
      " |-- DailyRate: integer (nullable = true)\n",
      " |-- Department: string (nullable = true)\n",
      " |-- DistanceFromHome: integer (nullable = true)\n",
      " |-- Education: integer (nullable = true)\n",
      " |-- EducationField: string (nullable = true)\n",
      " |-- EmployeeCount: integer (nullable = true)\n",
      " |-- EmployeeNumber: integer (nullable = true)\n",
      " |-- EnvironmentSatisfaction: integer (nullable = true)\n",
      " |-- Gender: string (nullable = true)\n",
      " |-- HourlyRate: integer (nullable = true)\n",
      " |-- JobInvolvement: integer (nullable = true)\n",
      " |-- JobLevel: integer (nullable = true)\n",
      " |-- JobRole: string (nullable = true)\n",
      " |-- JobSatisfaction: integer (nullable = true)\n",
      " |-- MaritalStatus: string (nullable = true)\n",
      " |-- MonthlyIncome: integer (nullable = true)\n",
      " |-- MonthlyRate: integer (nullable = true)\n",
      " |-- NumCompaniesWorked: integer (nullable = true)\n",
      " |-- Over18: string (nullable = true)\n",
      " |-- OverTime: string (nullable = true)\n",
      " |-- PercentSalaryHike: integer (nullable = true)\n",
      " |-- PerformanceRating: integer (nullable = true)\n",
      " |-- RelationshipSatisfaction: integer (nullable = true)\n",
      " |-- StandardHours: integer (nullable = true)\n",
      " |-- StockOptionLevel: integer (nullable = true)\n",
      " |-- TotalWorkingYears: integer (nullable = true)\n",
      " |-- TrainingTimesLastYear: integer (nullable = true)\n",
      " |-- WorkLifeBalance: integer (nullable = true)\n",
      " |-- YearsAtCompany: integer (nullable = true)\n",
      " |-- YearsInCurrentRole: integer (nullable = true)\n",
      " |-- YearsSinceLastPromotion: integer (nullable = true)\n",
      " |-- YearsWithCurrManager: integer (nullable = true)"
     ]
    }
   ],
   "source": [
    "df1.printSchema()"
   ]
  },
  {
   "cell_type": "code",
   "execution_count": 16,
   "id": "8f64ffd2-a140-45fb-9d84-8c7416edc0e3",
   "metadata": {
    "execution": {
     "iopub.execute_input": "2022-09-29T14:27:15.085157Z",
     "iopub.status.busy": "2022-09-29T14:27:15.084905Z",
     "iopub.status.idle": "2022-09-29T14:27:15.860987Z",
     "shell.execute_reply": "2022-09-29T14:27:15.860321Z",
     "shell.execute_reply.started": "2022-09-29T14:27:15.085122Z"
    },
    "tags": []
   },
   "outputs": [
    {
     "data": {
      "application/vnd.jupyter.widget-view+json": {
       "model_id": "c732fd04519f415f98db6393f87ce7ed",
       "version_major": 2,
       "version_minor": 0
      },
      "text/plain": [
       "VBox()"
      ]
     },
     "metadata": {},
     "output_type": "display_data"
    },
    {
     "data": {
      "application/vnd.jupyter.widget-view+json": {
       "model_id": "",
       "version_major": 2,
       "version_minor": 0
      },
      "text/plain": [
       "FloatProgress(value=0.0, bar_style='info', description='Progress:', layout=Layout(height='25px', width='50%'),…"
      ]
     },
     "metadata": {},
     "output_type": "display_data"
    }
   ],
   "source": [
    "df1.createOrReplaceTempView(\"res1\")"
   ]
  },
  {
   "cell_type": "code",
   "execution_count": 17,
   "id": "733317d8-5c5a-497d-88ee-dbd8b0be3585",
   "metadata": {
    "execution": {
     "iopub.execute_input": "2022-09-29T14:27:15.862470Z",
     "iopub.status.busy": "2022-09-29T14:27:15.862085Z",
     "iopub.status.idle": "2022-09-29T14:27:45.305662Z",
     "shell.execute_reply": "2022-09-29T14:27:45.304853Z",
     "shell.execute_reply.started": "2022-09-29T14:27:15.862434Z"
    },
    "tags": []
   },
   "outputs": [
    {
     "data": {
      "application/vnd.jupyter.widget-view+json": {
       "model_id": "058a4b6b95f94ec59634230d939c908e",
       "version_major": 2,
       "version_minor": 0
      },
      "text/plain": [
       "VBox()"
      ]
     },
     "metadata": {},
     "output_type": "display_data"
    },
    {
     "data": {
      "application/vnd.jupyter.widget-view+json": {
       "model_id": "",
       "version_major": 2,
       "version_minor": 0
      },
      "text/plain": [
       "FloatProgress(value=0.0, bar_style='info', description='Progress:', layout=Layout(height='25px', width='50%'),…"
      ]
     },
     "metadata": {},
     "output_type": "display_data"
    },
    {
     "name": "stdout",
     "output_type": "stream",
     "text": [
      "+--------+\n",
      "|count(1)|\n",
      "+--------+\n",
      "| 1157801|\n",
      "+--------+"
     ]
    }
   ],
   "source": [
    "spark.sql(\"SELECT COUNT(*) FROM res1\").show()"
   ]
  },
  {
   "cell_type": "code",
   "execution_count": 18,
   "id": "6a559576-f7c3-419f-b139-6560ba40032d",
   "metadata": {
    "execution": {
     "iopub.execute_input": "2022-09-29T14:27:45.306746Z",
     "iopub.status.busy": "2022-09-29T14:27:45.306579Z",
     "iopub.status.idle": "2022-09-29T14:27:45.378482Z",
     "shell.execute_reply": "2022-09-29T14:27:45.377937Z",
     "shell.execute_reply.started": "2022-09-29T14:27:45.306726Z"
    },
    "tags": []
   },
   "outputs": [
    {
     "data": {
      "application/vnd.jupyter.widget-view+json": {
       "model_id": "e6825cbc60674d049d223ddc3a04036e",
       "version_major": 2,
       "version_minor": 0
      },
      "text/plain": [
       "VBox()"
      ]
     },
     "metadata": {},
     "output_type": "display_data"
    },
    {
     "data": {
      "application/vnd.jupyter.widget-view+json": {
       "model_id": "",
       "version_major": 2,
       "version_minor": 0
      },
      "text/plain": [
       "FloatProgress(value=0.0, bar_style='info', description='Progress:', layout=Layout(height='25px', width='50%'),…"
      ]
     },
     "metadata": {},
     "output_type": "display_data"
    }
   ],
   "source": [
    "df = df1.distinct()"
   ]
  },
  {
   "cell_type": "code",
   "execution_count": 19,
   "id": "5f941c21-1849-43bf-835b-b96b3fdb1cf8",
   "metadata": {
    "execution": {
     "iopub.execute_input": "2022-09-29T14:27:45.379443Z",
     "iopub.status.busy": "2022-09-29T14:27:45.379263Z",
     "iopub.status.idle": "2022-09-29T14:27:45.449643Z",
     "shell.execute_reply": "2022-09-29T14:27:45.449082Z",
     "shell.execute_reply.started": "2022-09-29T14:27:45.379417Z"
    },
    "tags": []
   },
   "outputs": [
    {
     "data": {
      "application/vnd.jupyter.widget-view+json": {
       "model_id": "5aac5eec3ad049b096897ddd0572cb3d",
       "version_major": 2,
       "version_minor": 0
      },
      "text/plain": [
       "VBox()"
      ]
     },
     "metadata": {},
     "output_type": "display_data"
    },
    {
     "data": {
      "application/vnd.jupyter.widget-view+json": {
       "model_id": "",
       "version_major": 2,
       "version_minor": 0
      },
      "text/plain": [
       "FloatProgress(value=0.0, bar_style='info', description='Progress:', layout=Layout(height='25px', width='50%'),…"
      ]
     },
     "metadata": {},
     "output_type": "display_data"
    }
   ],
   "source": [
    "df.registerTempTable(\"res\")"
   ]
  },
  {
   "cell_type": "code",
   "execution_count": 20,
   "id": "12a2a42d-a184-4b1e-b536-e53b47844fb5",
   "metadata": {
    "execution": {
     "iopub.execute_input": "2022-09-29T14:27:45.450904Z",
     "iopub.status.busy": "2022-09-29T14:27:45.450572Z",
     "iopub.status.idle": "2022-09-29T14:28:20.959691Z",
     "shell.execute_reply": "2022-09-29T14:28:20.958943Z",
     "shell.execute_reply.started": "2022-09-29T14:27:45.450877Z"
    },
    "tags": []
   },
   "outputs": [
    {
     "data": {
      "application/vnd.jupyter.widget-view+json": {
       "model_id": "0f2efbbd8a4f43dba3b4764e4f4d7b29",
       "version_major": 2,
       "version_minor": 0
      },
      "text/plain": [
       "VBox()"
      ]
     },
     "metadata": {},
     "output_type": "display_data"
    },
    {
     "data": {
      "application/vnd.jupyter.widget-view+json": {
       "model_id": "",
       "version_major": 2,
       "version_minor": 0
      },
      "text/plain": [
       "FloatProgress(value=0.0, bar_style='info', description='Progress:', layout=Layout(height='25px', width='50%'),…"
      ]
     },
     "metadata": {},
     "output_type": "display_data"
    },
    {
     "name": "stdout",
     "output_type": "stream",
     "text": [
      "+--------+\n",
      "|count(1)|\n",
      "+--------+\n",
      "|  701293|\n",
      "+--------+"
     ]
    }
   ],
   "source": [
    "spark.sql(\"SELECT COUNT(*) FROM res\").show()"
   ]
  },
  {
   "cell_type": "code",
   "execution_count": 21,
   "id": "1df93bed-7f41-4d9d-8f3a-8a7c1795aa37",
   "metadata": {
    "execution": {
     "iopub.execute_input": "2022-09-29T14:28:20.961098Z",
     "iopub.status.busy": "2022-09-29T14:28:20.960845Z",
     "iopub.status.idle": "2022-09-29T14:28:52.456981Z",
     "shell.execute_reply": "2022-09-29T14:28:52.456416Z",
     "shell.execute_reply.started": "2022-09-29T14:28:20.961064Z"
    },
    "tags": []
   },
   "outputs": [
    {
     "data": {
      "application/vnd.jupyter.widget-view+json": {
       "model_id": "21211789b0ec420a9e5ff26def14aaac",
       "version_major": 2,
       "version_minor": 0
      },
      "text/plain": [
       "VBox()"
      ]
     },
     "metadata": {},
     "output_type": "display_data"
    },
    {
     "data": {
      "application/vnd.jupyter.widget-view+json": {
       "model_id": "",
       "version_major": 2,
       "version_minor": 0
      },
      "text/plain": [
       "FloatProgress(value=0.0, bar_style='info', description='Progress:', layout=Layout(height='25px', width='50%'),…"
      ]
     },
     "metadata": {},
     "output_type": "display_data"
    },
    {
     "name": "stdout",
     "output_type": "stream",
     "text": [
      "+---+---------+\n",
      "|age|attrition|\n",
      "+---+---------+\n",
      "| 23|      Yes|\n",
      "| 55|      Yes|\n",
      "| 21|      Yes|\n",
      "| 27|      Yes|\n",
      "| 40|       No|\n",
      "| 21|       No|\n",
      "| 27|      Yes|\n",
      "| 51|       No|\n",
      "| 36|       No|\n",
      "| 22|       No|\n",
      "+---+---------+"
     ]
    }
   ],
   "source": [
    "spark.sql(\"SELECT age,attrition FROM res LIMIT 10\").show()"
   ]
  },
  {
   "cell_type": "code",
   "execution_count": 22,
   "id": "b2376198-6826-44c2-9ac0-c4633cf0aff4",
   "metadata": {
    "execution": {
     "iopub.execute_input": "2022-09-29T14:28:52.458029Z",
     "iopub.status.busy": "2022-09-29T14:28:52.457850Z",
     "iopub.status.idle": "2022-09-29T14:28:52.515448Z",
     "shell.execute_reply": "2022-09-29T14:28:52.514883Z",
     "shell.execute_reply.started": "2022-09-29T14:28:52.458006Z"
    },
    "tags": []
   },
   "outputs": [
    {
     "data": {
      "application/vnd.jupyter.widget-view+json": {
       "model_id": "1bd8aab768524537a3d6cd5a6e5d5a8d",
       "version_major": 2,
       "version_minor": 0
      },
      "text/plain": [
       "VBox()"
      ]
     },
     "metadata": {},
     "output_type": "display_data"
    },
    {
     "data": {
      "application/vnd.jupyter.widget-view+json": {
       "model_id": "",
       "version_major": 2,
       "version_minor": 0
      },
      "text/plain": [
       "FloatProgress(value=0.0, bar_style='info', description='Progress:', layout=Layout(height='25px', width='50%'),…"
      ]
     },
     "metadata": {},
     "output_type": "display_data"
    }
   ],
   "source": [
    "#df.repartition(1).write.csv(\"s3://team5project/data1.csv\")"
   ]
  },
  {
   "cell_type": "markdown",
   "id": "cfaf91fb-348a-451d-933c-3818df756c92",
   "metadata": {},
   "source": [
    "# Creating Hypothesis\n",
    "### Assumptions based on the data:\n",
    "\n",
    "### Considering these variables might be the cause for attrition:\n",
    "\n",
    "### i) Age - Younger employees might ve getting churned more than the experienced ones. The reason could be not getting fit in the company or for better opportunities.\n",
    "\n",
    "### ii) Gender - There could be a gender bias in the company leading to female employees getting churned more than the male employees. Female employees could also be leaving the company due to marital status.\n",
    "\n",
    "### iii) JobSatisfaction - If the employee is not satisfied with the job, then he/she might leave job.\n",
    "\n",
    "### iv) MonthlyIncome - If the monthly income is not upto the expectation of employee, he/she would look for quitting the job for a better opportunity\n",
    "\n",
    "### v) OverTime - This parameter is considered to check the amount of people dong overtime and if they are benefitting with that.\n",
    "\n",
    "### vi) TotalWorkingYears - Total years of experience can lead the employee to think if the job is doing justice to him/her. To check whether the employee quits job in the initial period or later stage and the factors leading to the same.\n",
    "\n",
    "### vii) YearsInCurrentRole - To check whether an employee stayed in the same role for a long time which could cause attrition viii) YearsSinceLastPromotion - To check if the employees are getting enough promotions according to their experience and skills.\n",
    "\n",
    "### ix) DistanceFromHome - To check if the distance from home is more for the employee, then chances are more that he/she leaves the company."
   ]
  },
  {
   "cell_type": "markdown",
   "id": "6deb0f57-f7ac-4d84-8317-97d2034e7824",
   "metadata": {},
   "source": [
    "## QUESTIONS¶\n",
    "### What is the percentage of attrition in the company?"
   ]
  },
  {
   "cell_type": "code",
   "execution_count": 23,
   "id": "86c3d2ae-323d-4685-a5fb-824ca8fdcc9a",
   "metadata": {
    "execution": {
     "iopub.execute_input": "2022-09-29T14:28:52.517582Z",
     "iopub.status.busy": "2022-09-29T14:28:52.517411Z",
     "iopub.status.idle": "2022-09-29T14:29:30.013897Z",
     "shell.execute_reply": "2022-09-29T14:29:30.013091Z",
     "shell.execute_reply.started": "2022-09-29T14:28:52.517556Z"
    }
   },
   "outputs": [
    {
     "data": {
      "application/vnd.jupyter.widget-view+json": {
       "model_id": "c6734fa6618043d1b110a73606135476",
       "version_major": 2,
       "version_minor": 0
      },
      "text/plain": [
       "VBox()"
      ]
     },
     "metadata": {},
     "output_type": "display_data"
    },
    {
     "data": {
      "application/vnd.jupyter.widget-view+json": {
       "model_id": "",
       "version_major": 2,
       "version_minor": 0
      },
      "text/plain": [
       "FloatProgress(value=0.0, bar_style='info', description='Progress:', layout=Layout(height='25px', width='50%'),…"
      ]
     },
     "metadata": {},
     "output_type": "display_data"
    },
    {
     "name": "stdout",
     "output_type": "stream",
     "text": [
      "+---------+------------------+\n",
      "|Attrition|        Percentage|\n",
      "+---------+------------------+\n",
      "|      Yes|42.546553295127715|\n",
      "|       No|57.453446704872285|\n",
      "+---------+------------------+"
     ]
    }
   ],
   "source": [
    "spark.sql(\"select Attrition ,count(Attrition)*100/(select count(Attrition) from res) as Percentage from res group by Attrition\").show()"
   ]
  },
  {
   "cell_type": "markdown",
   "id": "8c8d7db8-ea82-421f-a120-6f3163a3784b",
   "metadata": {},
   "source": [
    "## AGE\n",
    "### Univariate Analysis on Age\n",
    "### What is the age range of the employees in the office?"
   ]
  },
  {
   "cell_type": "code",
   "execution_count": 24,
   "id": "a076913e-941e-420e-bb09-6c67fc2f0546",
   "metadata": {
    "execution": {
     "iopub.execute_input": "2022-09-29T14:29:30.015592Z",
     "iopub.status.busy": "2022-09-29T14:29:30.015315Z",
     "iopub.status.idle": "2022-09-29T14:30:01.510673Z",
     "shell.execute_reply": "2022-09-29T14:30:01.510001Z",
     "shell.execute_reply.started": "2022-09-29T14:29:30.015557Z"
    }
   },
   "outputs": [
    {
     "data": {
      "application/vnd.jupyter.widget-view+json": {
       "model_id": "ae56a4b40c0f4bcca279b912a9670efd",
       "version_major": 2,
       "version_minor": 0
      },
      "text/plain": [
       "VBox()"
      ]
     },
     "metadata": {},
     "output_type": "display_data"
    },
    {
     "data": {
      "application/vnd.jupyter.widget-view+json": {
       "model_id": "",
       "version_major": 2,
       "version_minor": 0
      },
      "text/plain": [
       "FloatProgress(value=0.0, bar_style='info', description='Progress:', layout=Layout(height='25px', width='50%'),…"
      ]
     },
     "metadata": {},
     "output_type": "display_data"
    },
    {
     "name": "stdout",
     "output_type": "stream",
     "text": [
      "+--------+--------+\n",
      "|min(age)|max(age)|\n",
      "+--------+--------+\n",
      "|      18|      60|\n",
      "+--------+--------+"
     ]
    }
   ],
   "source": [
    "spark.sql(\"SELECT MIN(age),MAX(age) FROM res\").show()"
   ]
  },
  {
   "cell_type": "markdown",
   "id": "f11aa3fd-c3e9-48e6-b931-838d7a106919",
   "metadata": {},
   "source": [
    "### Average age"
   ]
  },
  {
   "cell_type": "code",
   "execution_count": 25,
   "id": "21d96bbb-a5c2-47eb-8b99-810d70397373",
   "metadata": {
    "execution": {
     "iopub.execute_input": "2022-09-29T14:30:01.511793Z",
     "iopub.status.busy": "2022-09-29T14:30:01.511629Z",
     "iopub.status.idle": "2022-09-29T14:30:32.957808Z",
     "shell.execute_reply": "2022-09-29T14:30:32.957123Z",
     "shell.execute_reply.started": "2022-09-29T14:30:01.511772Z"
    }
   },
   "outputs": [
    {
     "data": {
      "application/vnd.jupyter.widget-view+json": {
       "model_id": "3685f9ae07724b19817a3b1d2b843a5d",
       "version_major": 2,
       "version_minor": 0
      },
      "text/plain": [
       "VBox()"
      ]
     },
     "metadata": {},
     "output_type": "display_data"
    },
    {
     "data": {
      "application/vnd.jupyter.widget-view+json": {
       "model_id": "",
       "version_major": 2,
       "version_minor": 0
      },
      "text/plain": [
       "FloatProgress(value=0.0, bar_style='info', description='Progress:', layout=Layout(height='25px', width='50%'),…"
      ]
     },
     "metadata": {},
     "output_type": "display_data"
    },
    {
     "name": "stdout",
     "output_type": "stream",
     "text": [
      "+-----------------+\n",
      "|         avg(age)|\n",
      "+-----------------+\n",
      "|39.46227610998541|\n",
      "+-----------------+"
     ]
    }
   ],
   "source": [
    "spark.sql(\"(SELECT AVG(age) FROM res)\").show()"
   ]
  },
  {
   "cell_type": "code",
   "execution_count": 26,
   "id": "a0ea4a16-2c41-43b4-a790-9181b1ecde43",
   "metadata": {
    "execution": {
     "iopub.execute_input": "2022-09-29T14:30:32.958951Z",
     "iopub.status.busy": "2022-09-29T14:30:32.958778Z",
     "iopub.status.idle": "2022-09-29T14:31:34.583921Z",
     "shell.execute_reply": "2022-09-29T14:31:34.583118Z",
     "shell.execute_reply.started": "2022-09-29T14:30:32.958927Z"
    }
   },
   "outputs": [
    {
     "data": {
      "application/vnd.jupyter.widget-view+json": {
       "model_id": "97f8e5438e884c9b983b8de43bec10c2",
       "version_major": 2,
       "version_minor": 0
      },
      "text/plain": [
       "VBox()"
      ]
     },
     "metadata": {},
     "output_type": "display_data"
    },
    {
     "data": {
      "application/vnd.jupyter.widget-view+json": {
       "model_id": "",
       "version_major": 2,
       "version_minor": 0
      },
      "text/plain": [
       "FloatProgress(value=0.0, bar_style='info', description='Progress:', layout=Layout(height='25px', width='50%'),…"
      ]
     },
     "metadata": {},
     "output_type": "display_data"
    },
    {
     "name": "stdout",
     "output_type": "stream",
     "text": [
      "+----------+\n",
      "|count(age)|\n",
      "+----------+\n",
      "|    347976|\n",
      "+----------+"
     ]
    }
   ],
   "source": [
    "spark.sql(\"SELECT COUNT(age) FROM res WHERE age>(SELECT AVG(age) FROM res)\").show()"
   ]
  },
  {
   "cell_type": "markdown",
   "id": "c62c5174-58fe-4223-9512-12c155675dad",
   "metadata": {},
   "source": [
    "## Bivariate Analysis of Age\n",
    "### Which age group is showing the maximum attrition? Is it the younger people or middle age group?"
   ]
  },
  {
   "cell_type": "code",
   "execution_count": 27,
   "id": "abec5776-96a1-431a-9993-1551a5b850f8",
   "metadata": {
    "execution": {
     "iopub.execute_input": "2022-09-29T14:31:34.606044Z",
     "iopub.status.busy": "2022-09-29T14:31:34.605560Z",
     "iopub.status.idle": "2022-09-29T14:32:04.078393Z",
     "shell.execute_reply": "2022-09-29T14:32:04.077506Z",
     "shell.execute_reply.started": "2022-09-29T14:31:34.606007Z"
    }
   },
   "outputs": [
    {
     "data": {
      "application/vnd.jupyter.widget-view+json": {
       "model_id": "518f2cf3edd349a1bb8d72b3feb8d846",
       "version_major": 2,
       "version_minor": 0
      },
      "text/plain": [
       "VBox()"
      ]
     },
     "metadata": {},
     "output_type": "display_data"
    },
    {
     "data": {
      "application/vnd.jupyter.widget-view+json": {
       "model_id": "",
       "version_major": 2,
       "version_minor": 0
      },
      "text/plain": [
       "FloatProgress(value=0.0, bar_style='info', description='Progress:', layout=Layout(height='25px', width='50%'),…"
      ]
     },
     "metadata": {},
     "output_type": "display_data"
    },
    {
     "name": "stdout",
     "output_type": "stream",
     "text": [
      "+---+----------+\n",
      "|age|count(age)|\n",
      "+---+----------+\n",
      "| 18|      2543|\n",
      "| 19|      5093|\n",
      "| 20|      3926|\n",
      "| 21|      7050|\n",
      "| 22|      5955|\n",
      "| 23|      4488|\n",
      "| 24|      5934|\n",
      "| 25|      9313|\n",
      "| 26|     10592|\n",
      "| 27|     13792|\n",
      "| 28|     13823|\n",
      "| 29|     14178|\n",
      "| 30|     12654|\n",
      "| 31|     10194|\n",
      "| 32|     13613|\n",
      "| 33|      9024|\n",
      "| 34|     12950|\n",
      "| 35|      8453|\n",
      "| 36|      9865|\n",
      "| 37|      8921|\n",
      "| 38|      9836|\n",
      "| 39|      9876|\n",
      "| 40|     10498|\n",
      "| 41|      7944|\n",
      "| 42|      4697|\n",
      "| 43|      3586|\n",
      "| 44|      4880|\n",
      "| 45|      4801|\n",
      "| 46|      4837|\n",
      "| 47|      4817|\n",
      "| 48|      4735|\n",
      "| 49|      4835|\n",
      "| 50|      4707|\n",
      "| 51|      4961|\n",
      "| 52|      3677|\n",
      "| 53|      2659|\n",
      "| 54|      3816|\n",
      "| 55|      3718|\n",
      "| 56|      3836|\n",
      "| 57|      3839|\n",
      "| 58|      3907|\n",
      "| 59|      3889|\n",
      "| 60|      1664|\n",
      "+---+----------+"
     ]
    }
   ],
   "source": [
    "spark.sql(\"SELECT age,COUNT(age) FROM res WHERE attrition='Yes' GROUP BY age   ORDER BY age\").show(50)"
   ]
  },
  {
   "cell_type": "markdown",
   "id": "ec8581b8-6698-44bd-8c92-cc9900e062cf",
   "metadata": {},
   "source": [
    "#### Maximum Attrition age is in between 25 to 41"
   ]
  },
  {
   "cell_type": "markdown",
   "id": "657d6291-9a32-4ad2-8236-3499162c0d06",
   "metadata": {},
   "source": [
    "### What percentage of people have attrited in the 25 to 41 age group category?"
   ]
  },
  {
   "cell_type": "code",
   "execution_count": 28,
   "id": "526e8263-adbd-49d0-bd74-dc107183d45d",
   "metadata": {
    "execution": {
     "iopub.execute_input": "2022-09-29T14:32:04.081051Z",
     "iopub.status.busy": "2022-09-29T14:32:04.080482Z",
     "iopub.status.idle": "2022-09-29T14:32:33.557784Z",
     "shell.execute_reply": "2022-09-29T14:32:33.557215Z",
     "shell.execute_reply.started": "2022-09-29T14:32:04.081013Z"
    }
   },
   "outputs": [
    {
     "data": {
      "application/vnd.jupyter.widget-view+json": {
       "model_id": "3d2890ad780f4739bf5d490c33a23f69",
       "version_major": 2,
       "version_minor": 0
      },
      "text/plain": [
       "VBox()"
      ]
     },
     "metadata": {},
     "output_type": "display_data"
    },
    {
     "data": {
      "application/vnd.jupyter.widget-view+json": {
       "model_id": "",
       "version_major": 2,
       "version_minor": 0
      },
      "text/plain": [
       "FloatProgress(value=0.0, bar_style='info', description='Progress:', layout=Layout(height='25px', width='50%'),…"
      ]
     },
     "metadata": {},
     "output_type": "display_data"
    },
    {
     "name": "stdout",
     "output_type": "stream",
     "text": [
      "+----------+\n",
      "|count(age)|\n",
      "+----------+\n",
      "|    296495|\n",
      "+----------+"
     ]
    }
   ],
   "source": [
    "#Count of Enployees having AGE between 25 to 41\n",
    "spark.sql(\"SELECT COUNT(age) FROM res WHERE age BETWEEN 25 AND 41 \").show(50)"
   ]
  },
  {
   "cell_type": "code",
   "execution_count": 29,
   "id": "2cfd1777-1b4f-446a-b9d9-61d07224744d",
   "metadata": {
    "execution": {
     "iopub.execute_input": "2022-09-29T14:32:33.559013Z",
     "iopub.status.busy": "2022-09-29T14:32:33.558840Z",
     "iopub.status.idle": "2022-09-29T14:33:31.127976Z",
     "shell.execute_reply": "2022-09-29T14:33:31.127381Z",
     "shell.execute_reply.started": "2022-09-29T14:32:33.558991Z"
    }
   },
   "outputs": [
    {
     "data": {
      "application/vnd.jupyter.widget-view+json": {
       "model_id": "612ed631265e449aa192c3874e5d4660",
       "version_major": 2,
       "version_minor": 0
      },
      "text/plain": [
       "VBox()"
      ]
     },
     "metadata": {},
     "output_type": "display_data"
    },
    {
     "data": {
      "application/vnd.jupyter.widget-view+json": {
       "model_id": "",
       "version_major": 2,
       "version_minor": 0
      },
      "text/plain": [
       "FloatProgress(value=0.0, bar_style='info', description='Progress:', layout=Layout(height='25px', width='50%'),…"
      ]
     },
     "metadata": {},
     "output_type": "display_data"
    },
    {
     "name": "stdout",
     "output_type": "stream",
     "text": [
      "+-----------------+\n",
      "|       Percentage|\n",
      "+-----------------+\n",
      "|62.57306194033626|\n",
      "+-----------------+"
     ]
    }
   ],
   "source": [
    "spark.sql(\"SELECT COUNT(age)/(SELECT COUNT(age) FROM res WHERE age BETWEEN 25 AND 41)*100 as Percentage FROM res WHERE attrition='Yes' AND age BETWEEN 25 AND 41\").show(50)"
   ]
  },
  {
   "cell_type": "markdown",
   "id": "6b23d61a-20a8-43c2-8cdc-0b7d69c0ab86",
   "metadata": {},
   "source": [
    "#### 62.57% People left the company whose age between 25 to 41"
   ]
  },
  {
   "cell_type": "markdown",
   "id": "a8fb9cde-c6ea-46e7-93c2-6317e3865e04",
   "metadata": {},
   "source": [
    "### Which age category is most satisfied with job? Find its percentage."
   ]
  },
  {
   "cell_type": "code",
   "execution_count": 30,
   "id": "9fc97008-5f2c-4ef5-b91a-676bf8f5075a",
   "metadata": {
    "execution": {
     "iopub.execute_input": "2022-09-29T14:33:31.129045Z",
     "iopub.status.busy": "2022-09-29T14:33:31.128877Z",
     "iopub.status.idle": "2022-09-29T14:34:00.539921Z",
     "shell.execute_reply": "2022-09-29T14:34:00.539315Z",
     "shell.execute_reply.started": "2022-09-29T14:33:31.129024Z"
    }
   },
   "outputs": [
    {
     "data": {
      "application/vnd.jupyter.widget-view+json": {
       "model_id": "be0574342bfb4f27860a0f29253b7034",
       "version_major": 2,
       "version_minor": 0
      },
      "text/plain": [
       "VBox()"
      ]
     },
     "metadata": {},
     "output_type": "display_data"
    },
    {
     "data": {
      "application/vnd.jupyter.widget-view+json": {
       "model_id": "",
       "version_major": 2,
       "version_minor": 0
      },
      "text/plain": [
       "FloatProgress(value=0.0, bar_style='info', description='Progress:', layout=Layout(height='25px', width='50%'),…"
      ]
     },
     "metadata": {},
     "output_type": "display_data"
    },
    {
     "name": "stdout",
     "output_type": "stream",
     "text": [
      "+---+-----+\n",
      "|age|count|\n",
      "+---+-----+\n",
      "| 28| 7060|\n",
      "| 30| 6999|\n",
      "| 27| 6872|\n",
      "| 34| 6849|\n",
      "| 36| 6839|\n",
      "| 29| 6525|\n",
      "| 32| 6266|\n",
      "| 38| 5705|\n",
      "| 31| 5342|\n",
      "| 40| 5305|\n",
      "| 37| 5266|\n",
      "| 33| 5238|\n",
      "| 35| 4944|\n",
      "| 39| 4437|\n",
      "| 22| 4233|\n",
      "| 21| 4161|\n",
      "| 26| 4146|\n",
      "| 41| 4145|\n",
      "| 25| 4099|\n",
      "| 24| 4091|\n",
      "| 23| 4060|\n",
      "| 53| 3301|\n",
      "| 51| 3252|\n",
      "| 47| 3245|\n",
      "| 43| 3221|\n",
      "| 44| 3219|\n",
      "| 46| 3204|\n",
      "| 54| 3185|\n",
      "| 42| 3174|\n",
      "| 18| 3140|\n",
      "| 20| 3135|\n",
      "| 52| 3113|\n",
      "| 19| 3113|\n",
      "| 48| 3111|\n",
      "| 45| 3107|\n",
      "| 57| 3101|\n",
      "| 58| 3095|\n",
      "| 56| 3089|\n",
      "| 59| 3084|\n",
      "| 50| 3061|\n",
      "| 55| 3054|\n",
      "| 49| 3028|\n",
      "| 60| 1174|\n",
      "+---+-----+"
     ]
    }
   ],
   "source": [
    "spark.sql(\"SELECT age,count(age) as count FROM res WHERE JobSatisfaction>2 GROUP BY age ORDER BY count DESC\").show(50)"
   ]
  },
  {
   "cell_type": "markdown",
   "id": "c8401485-5c9b-4038-bc6b-e6e0e18fa28f",
   "metadata": {},
   "source": [
    "### Is there any anomaly regarding the age and total working years?Are there people working for 40 years or more?If yes,have they joined the company very early?"
   ]
  },
  {
   "cell_type": "code",
   "execution_count": 31,
   "id": "0352ea83-b1cf-44dd-8520-f3c81488e651",
   "metadata": {
    "execution": {
     "iopub.execute_input": "2022-09-29T14:34:00.540967Z",
     "iopub.status.busy": "2022-09-29T14:34:00.540796Z",
     "iopub.status.idle": "2022-09-29T14:34:32.001173Z",
     "shell.execute_reply": "2022-09-29T14:34:32.000474Z",
     "shell.execute_reply.started": "2022-09-29T14:34:00.540946Z"
    }
   },
   "outputs": [
    {
     "data": {
      "application/vnd.jupyter.widget-view+json": {
       "model_id": "09bb419a370142039d622041637f68bc",
       "version_major": 2,
       "version_minor": 0
      },
      "text/plain": [
       "VBox()"
      ]
     },
     "metadata": {},
     "output_type": "display_data"
    },
    {
     "data": {
      "application/vnd.jupyter.widget-view+json": {
       "model_id": "",
       "version_major": 2,
       "version_minor": 0
      },
      "text/plain": [
       "FloatProgress(value=0.0, bar_style='info', description='Progress:', layout=Layout(height='25px', width='50%'),…"
      ]
     },
     "metadata": {},
     "output_type": "display_data"
    },
    {
     "name": "stdout",
     "output_type": "stream",
     "text": [
      "+--------+\n",
      "|count(1)|\n",
      "+--------+\n",
      "|   12965|\n",
      "+--------+"
     ]
    }
   ],
   "source": [
    "spark.sql(\"SELECT count(*) FROM res WHERE TotalWorkingYears>=40 \").show(50)"
   ]
  },
  {
   "cell_type": "markdown",
   "id": "7225a8d1-cd6a-440b-8ecf-c222227d8e61",
   "metadata": {},
   "source": [
    "## MONTHLY INCOME\n",
    "### Univariate Analysis of Monthly Income\n",
    "### On an average, what is the monthly income of an employee in the comapny?"
   ]
  },
  {
   "cell_type": "code",
   "execution_count": 32,
   "id": "01967e91-89fa-4b77-a4ec-06f456c19edc",
   "metadata": {
    "execution": {
     "iopub.execute_input": "2022-09-29T14:34:32.002191Z",
     "iopub.status.busy": "2022-09-29T14:34:32.002028Z",
     "iopub.status.idle": "2022-09-29T14:35:05.618335Z",
     "shell.execute_reply": "2022-09-29T14:35:05.617652Z",
     "shell.execute_reply.started": "2022-09-29T14:34:32.002171Z"
    }
   },
   "outputs": [
    {
     "data": {
      "application/vnd.jupyter.widget-view+json": {
       "model_id": "87cbfb14d812440f8db1d163c40aa01b",
       "version_major": 2,
       "version_minor": 0
      },
      "text/plain": [
       "VBox()"
      ]
     },
     "metadata": {},
     "output_type": "display_data"
    },
    {
     "data": {
      "application/vnd.jupyter.widget-view+json": {
       "model_id": "",
       "version_major": 2,
       "version_minor": 0
      },
      "text/plain": [
       "FloatProgress(value=0.0, bar_style='info', description='Progress:', layout=Layout(height='25px', width='50%'),…"
      ]
     },
     "metadata": {},
     "output_type": "display_data"
    },
    {
     "name": "stdout",
     "output_type": "stream",
     "text": [
      "+----------------------+\n",
      "|average_monthly_income|\n",
      "+----------------------+\n",
      "|    25257.362945302462|\n",
      "+----------------------+"
     ]
    }
   ],
   "source": [
    "spark.sql(\"SELECT AVG(monthlyincome) as average_monthly_income FROM res\").show()"
   ]
  },
  {
   "cell_type": "markdown",
   "id": "e09044ef-e15b-45f4-a5a9-d71f46e36969",
   "metadata": {},
   "source": [
    "### How many percentage of people in the company atleast get an average monthly salary?"
   ]
  },
  {
   "cell_type": "code",
   "execution_count": 33,
   "id": "9fe67002-5ab8-403d-a5b4-a9003ad14b08",
   "metadata": {
    "execution": {
     "iopub.execute_input": "2022-09-29T14:35:05.619735Z",
     "iopub.status.busy": "2022-09-29T14:35:05.619452Z",
     "iopub.status.idle": "2022-09-29T14:36:09.221105Z",
     "shell.execute_reply": "2022-09-29T14:36:09.220382Z",
     "shell.execute_reply.started": "2022-09-29T14:35:05.619701Z"
    }
   },
   "outputs": [
    {
     "data": {
      "application/vnd.jupyter.widget-view+json": {
       "model_id": "aa77439589c84bbebcc7ea8b12c0b5af",
       "version_major": 2,
       "version_minor": 0
      },
      "text/plain": [
       "VBox()"
      ]
     },
     "metadata": {},
     "output_type": "display_data"
    },
    {
     "data": {
      "application/vnd.jupyter.widget-view+json": {
       "model_id": "",
       "version_major": 2,
       "version_minor": 0
      },
      "text/plain": [
       "FloatProgress(value=0.0, bar_style='info', description='Progress:', layout=Layout(height='25px', width='50%'),…"
      ]
     },
     "metadata": {},
     "output_type": "display_data"
    },
    {
     "name": "stdout",
     "output_type": "stream",
     "text": [
      "+------------------+\n",
      "|        percentage|\n",
      "+------------------+\n",
      "|48.363095025902155|\n",
      "+------------------+"
     ]
    }
   ],
   "source": [
    "spark.sql(\"SELECT count(*)/(SELECT count(*) FROM res)*100 as percentage FROM res WHERE monthlyincome >=(SELECT AVG(monthlyincome) as average_monthly_income FROM res)\").show()"
   ]
  },
  {
   "cell_type": "markdown",
   "id": "fcd54f2c-9c1c-494f-849b-bda019dc5f24",
   "metadata": {},
   "source": [
    "### Bivariate Analysis on MonthlyIncome\n",
    "### How is the salary getting distributed in each job levels?"
   ]
  },
  {
   "cell_type": "code",
   "execution_count": 35,
   "id": "a476c7b1-79f2-48a0-a8c1-1faa883fe53e",
   "metadata": {
    "execution": {
     "iopub.execute_input": "2022-09-29T14:36:09.279427Z",
     "iopub.status.busy": "2022-09-29T14:36:09.279270Z",
     "iopub.status.idle": "2022-09-29T14:36:40.735439Z",
     "shell.execute_reply": "2022-09-29T14:36:40.734720Z",
     "shell.execute_reply.started": "2022-09-29T14:36:09.279407Z"
    }
   },
   "outputs": [
    {
     "data": {
      "application/vnd.jupyter.widget-view+json": {
       "model_id": "57ee35ab88084c1eb409f3e65b18ba3d",
       "version_major": 2,
       "version_minor": 0
      },
      "text/plain": [
       "VBox()"
      ]
     },
     "metadata": {},
     "output_type": "display_data"
    },
    {
     "data": {
      "application/vnd.jupyter.widget-view+json": {
       "model_id": "",
       "version_major": 2,
       "version_minor": 0
      },
      "text/plain": [
       "FloatProgress(value=0.0, bar_style='info', description='Progress:', layout=Layout(height='25px', width='50%'),…"
      ]
     },
     "metadata": {},
     "output_type": "display_data"
    },
    {
     "name": "stdout",
     "output_type": "stream",
     "text": [
      "+--------+------------------+--------+\n",
      "|JobLevel|avg(monthlyincome)|count(1)|\n",
      "+--------+------------------+--------+\n",
      "|       1| 24808.52971382522|  160077|\n",
      "|       2| 25289.27526545687|  140795|\n",
      "|       3|25865.518777806315|  120701|\n",
      "|       4| 25272.35132053553|  139451|\n",
      "|       5|25199.328889490906|  140269|\n",
      "+--------+------------------+--------+"
     ]
    }
   ],
   "source": [
    "spark.sql(\"SELECT JobLevel,AVG(monthlyincome),COUNT(*) FROM res GROUP BY JobLevel ORDER BY JobLevel\").show()"
   ]
  },
  {
   "cell_type": "markdown",
   "id": "32a88c85-7766-4180-b393-b27f8a0fc97d",
   "metadata": {},
   "source": [
    "### Is the salary in each department uniformly distributed? If no,which segment has the best salary?"
   ]
  },
  {
   "cell_type": "code",
   "execution_count": 36,
   "id": "1949df8d-f53b-4e5e-bf27-05db4689c467",
   "metadata": {
    "execution": {
     "iopub.execute_input": "2022-09-29T14:36:40.736937Z",
     "iopub.status.busy": "2022-09-29T14:36:40.736684Z",
     "iopub.status.idle": "2022-09-29T14:37:14.198872Z",
     "shell.execute_reply": "2022-09-29T14:37:14.198155Z",
     "shell.execute_reply.started": "2022-09-29T14:36:40.736902Z"
    }
   },
   "outputs": [
    {
     "data": {
      "application/vnd.jupyter.widget-view+json": {
       "model_id": "e523c0c7eeaa4c549044671c4985507d",
       "version_major": 2,
       "version_minor": 0
      },
      "text/plain": [
       "VBox()"
      ]
     },
     "metadata": {},
     "output_type": "display_data"
    },
    {
     "data": {
      "application/vnd.jupyter.widget-view+json": {
       "model_id": "",
       "version_major": 2,
       "version_minor": 0
      },
      "text/plain": [
       "FloatProgress(value=0.0, bar_style='info', description='Progress:', layout=Layout(height='25px', width='50%'),…"
      ]
     },
     "metadata": {},
     "output_type": "display_data"
    },
    {
     "name": "stdout",
     "output_type": "stream",
     "text": [
      "+--------------------+------------------+--------+\n",
      "|          Department|avg(monthlyincome)|count(1)|\n",
      "+--------------------+------------------+--------+\n",
      "|               Sales|25032.576276392316|  100929|\n",
      "|             Support| 25476.03245958589|  101326|\n",
      "|            Hardware| 25291.13620782782|   96272|\n",
      "|       Life Sciences|  25953.9458062863|   46832|\n",
      "|     Human Resources|25310.023175985178|   87979|\n",
      "|Research & Develo...| 25022.02214342965|  147222|\n",
      "|            Software|25054.761950734013|  100475|\n",
      "|    Technical Degree|25999.167785566195|   20258|\n",
      "+--------------------+------------------+--------+"
     ]
    }
   ],
   "source": [
    "spark.sql(\"SELECT Department,AVG(monthlyincome),COUNT(*) FROM res GROUP BY Department\").show()"
   ]
  },
  {
   "cell_type": "code",
   "execution_count": 37,
   "id": "c1c37119-e76b-4f4c-9cec-3aec39373780",
   "metadata": {
    "execution": {
     "iopub.execute_input": "2022-09-29T14:37:14.199961Z",
     "iopub.status.busy": "2022-09-29T14:37:14.199789Z",
     "iopub.status.idle": "2022-09-29T14:37:45.736277Z",
     "shell.execute_reply": "2022-09-29T14:37:45.735561Z",
     "shell.execute_reply.started": "2022-09-29T14:37:14.199940Z"
    }
   },
   "outputs": [
    {
     "data": {
      "application/vnd.jupyter.widget-view+json": {
       "model_id": "ad7c1e19928844bb8d2b9264cc88a820",
       "version_major": 2,
       "version_minor": 0
      },
      "text/plain": [
       "VBox()"
      ]
     },
     "metadata": {},
     "output_type": "display_data"
    },
    {
     "data": {
      "application/vnd.jupyter.widget-view+json": {
       "model_id": "",
       "version_major": 2,
       "version_minor": 0
      },
      "text/plain": [
       "FloatProgress(value=0.0, bar_style='info', description='Progress:', layout=Layout(height='25px', width='50%'),…"
      ]
     },
     "metadata": {},
     "output_type": "display_data"
    },
    {
     "name": "stdout",
     "output_type": "stream",
     "text": [
      "+--------------+------------------+--------+\n",
      "|JobInvolvement|avg(monthlyincome)|count(1)|\n",
      "+--------------+------------------+--------+\n",
      "|             1| 25075.64092284948|  370678|\n",
      "|             2|  25159.5992594062|  151230|\n",
      "|             3|25683.747236037943|  101937|\n",
      "|             4|25756.805443652516|   77448|\n",
      "+--------------+------------------+--------+"
     ]
    }
   ],
   "source": [
    "spark.sql(\"SELECT JobInvolvement,AVG(monthlyincome),COUNT(*) FROM res GROUP BY JobInvolvement ORDER BY JobInvolvement\").show()"
   ]
  },
  {
   "cell_type": "markdown",
   "id": "6ff0d108-e188-4c09-b35f-0984bcc2a3ca",
   "metadata": {},
   "source": [
    "#### this shows the average salary of all segments are almost same with minor variations irrespective of their job involvement ratings"
   ]
  },
  {
   "cell_type": "markdown",
   "id": "e6627c33-02f1-4cbe-9bf1-c9585c6c9114",
   "metadata": {},
   "source": [
    "### Are the people who do overtime are getting paid sufficiently?"
   ]
  },
  {
   "cell_type": "code",
   "execution_count": 38,
   "id": "5bda6a13-f40b-405b-b7cb-788aeb3619f1",
   "metadata": {
    "execution": {
     "iopub.execute_input": "2022-09-29T14:37:45.737342Z",
     "iopub.status.busy": "2022-09-29T14:37:45.737159Z",
     "iopub.status.idle": "2022-09-29T14:38:17.168999Z",
     "shell.execute_reply": "2022-09-29T14:38:17.168401Z",
     "shell.execute_reply.started": "2022-09-29T14:37:45.737320Z"
    }
   },
   "outputs": [
    {
     "data": {
      "application/vnd.jupyter.widget-view+json": {
       "model_id": "3ffdea45898e48628c8ea205b687d558",
       "version_major": 2,
       "version_minor": 0
      },
      "text/plain": [
       "VBox()"
      ]
     },
     "metadata": {},
     "output_type": "display_data"
    },
    {
     "data": {
      "application/vnd.jupyter.widget-view+json": {
       "model_id": "",
       "version_major": 2,
       "version_minor": 0
      },
      "text/plain": [
       "FloatProgress(value=0.0, bar_style='info', description='Progress:', layout=Layout(height='25px', width='50%'),…"
      ]
     },
     "metadata": {},
     "output_type": "display_data"
    },
    {
     "name": "stdout",
     "output_type": "stream",
     "text": [
      "+--------+------------------+--------+\n",
      "|OverTime|avg(monthlyincome)|count(1)|\n",
      "+--------+------------------+--------+\n",
      "|     Yes|25246.658998985244|  347867|\n",
      "|      No|25267.898530385428|  353426|\n",
      "+--------+------------------+--------+"
     ]
    }
   ],
   "source": [
    "spark.sql(\"SELECT OverTime,AVG(monthlyincome),COUNT(*) FROM res GROUP BY OverTime\").show()"
   ]
  },
  {
   "cell_type": "markdown",
   "id": "37bcfa40-e46a-4a3a-97fe-980e5218aeab",
   "metadata": {},
   "source": [
    "## Trivariate Analysis on Monthly Income\n",
    "### compare the monthly income of people who did overtime and who didn't do overtime with respect to attrition.Did the people who do overtime got benefitted in terms of monthly income?"
   ]
  },
  {
   "cell_type": "code",
   "execution_count": 39,
   "id": "63bff6c4-5648-4020-9ca7-b60a39841724",
   "metadata": {
    "execution": {
     "iopub.execute_input": "2022-09-29T14:38:17.170005Z",
     "iopub.status.busy": "2022-09-29T14:38:17.169824Z",
     "iopub.status.idle": "2022-09-29T14:38:50.626595Z",
     "shell.execute_reply": "2022-09-29T14:38:50.626014Z",
     "shell.execute_reply.started": "2022-09-29T14:38:17.169983Z"
    }
   },
   "outputs": [
    {
     "data": {
      "application/vnd.jupyter.widget-view+json": {
       "model_id": "91127aaff2354a76b1554f81f2a8261e",
       "version_major": 2,
       "version_minor": 0
      },
      "text/plain": [
       "VBox()"
      ]
     },
     "metadata": {},
     "output_type": "display_data"
    },
    {
     "data": {
      "application/vnd.jupyter.widget-view+json": {
       "model_id": "",
       "version_major": 2,
       "version_minor": 0
      },
      "text/plain": [
       "FloatProgress(value=0.0, bar_style='info', description='Progress:', layout=Layout(height='25px', width='50%'),…"
      ]
     },
     "metadata": {},
     "output_type": "display_data"
    },
    {
     "name": "stdout",
     "output_type": "stream",
     "text": [
      "+--------+---------+------------------+--------+\n",
      "|OverTime|attrition|avg(monthlyincome)|count(1)|\n",
      "+--------+---------+------------------+--------+\n",
      "|     Yes|      Yes|24734.508691223786|  148253|\n",
      "|      No|       No|25581.333807174513|  203303|\n",
      "|     Yes|       No|25627.032217179156|  199614|\n",
      "|      No|      Yes|24843.431046541835|  150123|\n",
      "+--------+---------+------------------+--------+"
     ]
    }
   ],
   "source": [
    "spark.sql(\"SELECT OverTime,attrition,AVG(monthlyincome),COUNT(*) FROM res  GROUP BY OverTime,attrition\").show()"
   ]
  },
  {
   "cell_type": "markdown",
   "id": "bb591f73-bd85-42a6-9228-7423acfe7e9c",
   "metadata": {},
   "source": [
    "#### the monthly income of the attrited people who did overtime and didnot do overtime are almost the same.\n",
    "#### shows that among the people who did overtime(Overtime=yes) and who didn't do overtime(overtime=no),\n",
    "#### the attrited people(attrition=Yes) got an average salary\n",
    "#### so even after doing overtime, they were not getting benefitted in terms of salary"
   ]
  },
  {
   "cell_type": "markdown",
   "id": "bd6dc00d-36c4-4f32-b28a-caec16049406",
   "metadata": {},
   "source": [
    "### Compare attrition with respect to monthly income for both genders"
   ]
  },
  {
   "cell_type": "code",
   "execution_count": 40,
   "id": "d362f779-5e33-4c4e-a640-b4deb99a4544",
   "metadata": {
    "execution": {
     "iopub.execute_input": "2022-09-29T14:38:50.627706Z",
     "iopub.status.busy": "2022-09-29T14:38:50.627535Z",
     "iopub.status.idle": "2022-09-29T14:39:24.231754Z",
     "shell.execute_reply": "2022-09-29T14:39:24.230780Z",
     "shell.execute_reply.started": "2022-09-29T14:38:50.627685Z"
    }
   },
   "outputs": [
    {
     "data": {
      "application/vnd.jupyter.widget-view+json": {
       "model_id": "b58204960608407f9ab85918cba5adbc",
       "version_major": 2,
       "version_minor": 0
      },
      "text/plain": [
       "VBox()"
      ]
     },
     "metadata": {},
     "output_type": "display_data"
    },
    {
     "data": {
      "application/vnd.jupyter.widget-view+json": {
       "model_id": "",
       "version_major": 2,
       "version_minor": 0
      },
      "text/plain": [
       "FloatProgress(value=0.0, bar_style='info', description='Progress:', layout=Layout(height='25px', width='50%'),…"
      ]
     },
     "metadata": {},
     "output_type": "display_data"
    },
    {
     "name": "stdout",
     "output_type": "stream",
     "text": [
      "+---------+------+------------------+------------------+------------------+--------+\n",
      "|attrition|gender|avg(monthlyincome)|max(monthlyincome)|min(monthlyincome)|count(1)|\n",
      "+---------+------+------------------+------------------+------------------+--------+\n",
      "|       No|Female|25611.536260563713|            431345|              1000|  147557|\n",
      "|      Yes|Female|  24698.0440888906|             50999|                38|  103813|\n",
      "|      Yes|  Male| 24838.00858847777|             50999|                27|  194563|\n",
      "|       No|  Male| 25599.60393170426|            501345|              1000|  255360|\n",
      "+---------+------+------------------+------------------+------------------+--------+"
     ]
    }
   ],
   "source": [
    "spark.sql(\"SELECT attrition,gender,AVG(monthlyincome),MAX(monthlyincome),MIN(monthlyincome),COUNT(*) FROM res GROUP BY attrition,gender\").show()"
   ]
  },
  {
   "cell_type": "markdown",
   "id": "253a4f13-4392-4d07-8f2f-70613e72e5eb",
   "metadata": {},
   "source": [
    "## Total Working Years\n",
    "### Univariate Analysis on Total Working Years\n",
    "### What is the range of experience seen in the company?Show the distribution."
   ]
  },
  {
   "cell_type": "code",
   "execution_count": 41,
   "id": "b3411df3-d2fa-455d-98fd-5eb6ab0f839f",
   "metadata": {
    "execution": {
     "iopub.execute_input": "2022-09-29T14:39:24.233337Z",
     "iopub.status.busy": "2022-09-29T14:39:24.233059Z",
     "iopub.status.idle": "2022-09-29T14:39:57.691070Z",
     "shell.execute_reply": "2022-09-29T14:39:57.690433Z",
     "shell.execute_reply.started": "2022-09-29T14:39:24.233300Z"
    }
   },
   "outputs": [
    {
     "data": {
      "application/vnd.jupyter.widget-view+json": {
       "model_id": "5a426bb897d240ef990e209e3d27ad45",
       "version_major": 2,
       "version_minor": 0
      },
      "text/plain": [
       "VBox()"
      ]
     },
     "metadata": {},
     "output_type": "display_data"
    },
    {
     "data": {
      "application/vnd.jupyter.widget-view+json": {
       "model_id": "",
       "version_major": 2,
       "version_minor": 0
      },
      "text/plain": [
       "FloatProgress(value=0.0, bar_style='info', description='Progress:', layout=Layout(height='25px', width='50%'),…"
      ]
     },
     "metadata": {},
     "output_type": "display_data"
    },
    {
     "name": "stdout",
     "output_type": "stream",
     "text": [
      "+----------------------+----------------------+\n",
      "|min(TotalWorkingYears)|max(TotalWorkingYears)|\n",
      "+----------------------+----------------------+\n",
      "|                     0|                    40|\n",
      "+----------------------+----------------------+"
     ]
    }
   ],
   "source": [
    "spark.sql(\"SELECT MIN(TotalWorkingYears),MAX(TotalWorkingYears) FROM res\").show()"
   ]
  },
  {
   "cell_type": "code",
   "execution_count": 42,
   "id": "adb8fe2c-d0b4-4d2c-b4da-61c7c4464efc",
   "metadata": {
    "execution": {
     "iopub.execute_input": "2022-09-29T14:39:57.692092Z",
     "iopub.status.busy": "2022-09-29T14:39:57.691918Z",
     "iopub.status.idle": "2022-09-29T14:40:33.118835Z",
     "shell.execute_reply": "2022-09-29T14:40:33.118237Z",
     "shell.execute_reply.started": "2022-09-29T14:39:57.692070Z"
    }
   },
   "outputs": [
    {
     "data": {
      "application/vnd.jupyter.widget-view+json": {
       "model_id": "dc63e112c79a436daf93d61e41d359ff",
       "version_major": 2,
       "version_minor": 0
      },
      "text/plain": [
       "VBox()"
      ]
     },
     "metadata": {},
     "output_type": "display_data"
    },
    {
     "data": {
      "application/vnd.jupyter.widget-view+json": {
       "model_id": "",
       "version_major": 2,
       "version_minor": 0
      },
      "text/plain": [
       "FloatProgress(value=0.0, bar_style='info', description='Progress:', layout=Layout(height='25px', width='50%'),…"
      ]
     },
     "metadata": {},
     "output_type": "display_data"
    },
    {
     "name": "stdout",
     "output_type": "stream",
     "text": [
      "+-----------------+--------------------+\n",
      "|TotalWorkingYears|          Percentage|\n",
      "+-----------------+--------------------+\n",
      "|                0|8.555625109618947E-4|\n",
      "|                1|  2.1785473404126376|\n",
      "|                2|   6.905530213477105|\n",
      "|                3|  1.4478969560511799|\n",
      "|                4|  1.8246296483780673|\n",
      "|                5|    9.16549858618295|\n",
      "|                6|  2.5458688451189446|\n",
      "|                7|  3.2380189164871176|\n",
      "|                8|  2.5049444383446007|\n",
      "|                9|  2.5391669387830764|\n",
      "|               10|  2.1644305589817665|\n",
      "|               11|  2.9012124746717847|\n",
      "|               12|  2.1801158716827347|\n",
      "|               13|  1.5156289881689964|\n",
      "|               14|    2.17797696540533|\n",
      "|               15|  2.1892418717996613|\n",
      "|               16|   2.190952996821585|\n",
      "|               17|  2.2006493719458198|\n",
      "|               18|  2.5391669387830764|\n",
      "|               19|  2.5296131574106684|\n",
      "|               20|    2.16286202771167|\n",
      "|               21|  2.5156389697316244|\n",
      "|               22|  2.1883863092886995|\n",
      "|               23|  1.8240592733707595|\n",
      "|               24|   2.170847277813981|\n",
      "|               25|    3.22561326007817|\n",
      "|               26|   4.977805282528131|\n",
      "|               27|  2.5209149385492227|\n",
      "|               28|  2.8786826618831216|\n",
      "|               29|   2.517207501001721|\n",
      "|               30|  2.5518577826956776|\n",
      "|               31|   1.485826894037157|\n",
      "|               32|  1.8155036482611404|\n",
      "|               33|  1.4677174875551302|\n",
      "|               34|  1.4767008939202302|\n",
      "|               35|   1.479410175204943|\n",
      "|               36|  1.4724230813654209|\n",
      "|               37|  1.4805509252195588|\n",
      "|               38|  1.5019399879936062|\n",
      "|               39|  1.4973769879351426|\n",
      "|               40|  1.8487279924368276|\n",
      "+-----------------+--------------------+"
     ]
    }
   ],
   "source": [
    "spark.sql(\"SELECT TotalWorkingYears,COUNT(*)/(SELECT COUNT(*) FROM res)*100 as Percentage FROM res GROUP BY TotalWorkingYears ORDER BY TotalWorkingYears\").show(50)"
   ]
  },
  {
   "cell_type": "markdown",
   "id": "0b063d91-8da5-4f81-ad65-a76120fd85a4",
   "metadata": {},
   "source": [
    "## Bivariate Analysis On Total Working Years\n",
    "### What is the average experience of the people who got attrited?"
   ]
  },
  {
   "cell_type": "code",
   "execution_count": 44,
   "id": "f35c29ca-70ac-433b-891f-ed7cd52e2ab0",
   "metadata": {
    "execution": {
     "iopub.execute_input": "2022-09-29T14:40:33.176274Z",
     "iopub.status.busy": "2022-09-29T14:40:33.176109Z",
     "iopub.status.idle": "2022-09-29T14:41:04.588383Z",
     "shell.execute_reply": "2022-09-29T14:41:04.587751Z",
     "shell.execute_reply.started": "2022-09-29T14:40:33.176253Z"
    }
   },
   "outputs": [
    {
     "data": {
      "application/vnd.jupyter.widget-view+json": {
       "model_id": "d50bd53f223345769098760ab2b4fdde",
       "version_major": 2,
       "version_minor": 0
      },
      "text/plain": [
       "VBox()"
      ]
     },
     "metadata": {},
     "output_type": "display_data"
    },
    {
     "data": {
      "application/vnd.jupyter.widget-view+json": {
       "model_id": "",
       "version_major": 2,
       "version_minor": 0
      },
      "text/plain": [
       "FloatProgress(value=0.0, bar_style='info', description='Progress:', layout=Layout(height='25px', width='50%'),…"
      ]
     },
     "metadata": {},
     "output_type": "display_data"
    },
    {
     "name": "stdout",
     "output_type": "stream",
     "text": [
      "+---------+----------------------+\n",
      "|Attrition|avg(TotalWorkingYears)|\n",
      "+---------+----------------------+\n",
      "|      Yes|     14.68821554012387|\n",
      "|       No|     20.13286855605497|\n",
      "+---------+----------------------+"
     ]
    }
   ],
   "source": [
    "spark.sql(\"SELECT Attrition,AVG(TotalWorkingYears) FROM res GROUP BY Attrition\").show()"
   ]
  },
  {
   "cell_type": "markdown",
   "id": "d7d9ba4b-9721-4d1a-94fc-7134203f1133",
   "metadata": {},
   "source": [
    "### Average salary by TotalWorkingYears"
   ]
  },
  {
   "cell_type": "code",
   "execution_count": 45,
   "id": "44dda8b8-2cde-4ec8-bda3-01e4a33f5b0c",
   "metadata": {
    "execution": {
     "iopub.execute_input": "2022-09-29T14:41:04.590449Z",
     "iopub.status.busy": "2022-09-29T14:41:04.589855Z",
     "iopub.status.idle": "2022-09-29T14:41:38.016929Z",
     "shell.execute_reply": "2022-09-29T14:41:38.016225Z",
     "shell.execute_reply.started": "2022-09-29T14:41:04.590409Z"
    }
   },
   "outputs": [
    {
     "data": {
      "application/vnd.jupyter.widget-view+json": {
       "model_id": "0df5d73f476e47a3aae5f2b56b21ebae",
       "version_major": 2,
       "version_minor": 0
      },
      "text/plain": [
       "VBox()"
      ]
     },
     "metadata": {},
     "output_type": "display_data"
    },
    {
     "data": {
      "application/vnd.jupyter.widget-view+json": {
       "model_id": "",
       "version_major": 2,
       "version_minor": 0
      },
      "text/plain": [
       "FloatProgress(value=0.0, bar_style='info', description='Progress:', layout=Layout(height='25px', width='50%'),…"
      ]
     },
     "metadata": {},
     "output_type": "display_data"
    },
    {
     "name": "stdout",
     "output_type": "stream",
     "text": [
      "+-----------------+------------------+--------+\n",
      "|TotalWorkingYears|avg(monthlyincome)|count(1)|\n",
      "+-----------------+------------------+--------+\n",
      "|                0|1513.6666666666667|       6|\n",
      "|                1|24663.943906270455|   15278|\n",
      "|                2| 24769.65501362848|   48428|\n",
      "|                3| 25990.45775064014|   10154|\n",
      "|                4|25076.608549546734|   12796|\n",
      "|                5| 24854.77867666506|   64277|\n",
      "|                6|25331.852806093873|   17854|\n",
      "|                7|25603.495376078914|   22708|\n",
      "|                8|25062.447315990208|   17567|\n",
      "|                9|25117.642443982702|   17807|\n",
      "|               10|24488.437709994072|   15179|\n",
      "|               11|23957.730856187947|   20346|\n",
      "|               12| 24701.31682909281|   15289|\n",
      "|               13|25775.698936870824|   10629|\n",
      "|               14|24625.375212779887|   15274|\n",
      "|               15| 24739.88627629779|   15353|\n",
      "|               16|24687.826553856168|   15365|\n",
      "|               17| 24515.86515907471|   15433|\n",
      "|               18| 24927.63733363284|   17807|\n",
      "|               19|24802.760822998873|   17740|\n",
      "|               20|25247.474485759492|   15168|\n",
      "|               21|24729.920190454595|   17642|\n",
      "|               22|  25546.2234312895|   15347|\n",
      "|               23| 26063.86280487805|   12792|\n",
      "|               24|25283.830399369417|   15224|\n",
      "|               25|25729.411033994962|   22621|\n",
      "|               26| 25881.22899538801|   34909|\n",
      "|               27|25586.056338028167|   17679|\n",
      "|               28| 25816.76243312859|   20188|\n",
      "|               29|25660.454143771596|   17653|\n",
      "|               30| 26080.87187080912|   17896|\n",
      "|               31| 25783.81113243762|   10420|\n",
      "|               32|26113.423892554194|   12732|\n",
      "|               33|26009.260273972603|   10293|\n",
      "|               34|25771.433661645424|   10356|\n",
      "|               35|25755.431421686746|   10375|\n",
      "|               36|26105.655723416618|   10326|\n",
      "|               37|26095.683521140327|   10383|\n",
      "|               38|25716.801765878667|   10533|\n",
      "|               39|26069.679840015237|   10501|\n",
      "|               40| 25301.27612803702|   12965|\n",
      "+-----------------+------------------+--------+"
     ]
    }
   ],
   "source": [
    "spark.sql(\"SELECT TotalWorkingYears,AVG(monthlyincome),COUNT(*) FROM res GROUP BY TotalWorkingYears ORDER BY TotalWorkingYears\").show(50)"
   ]
  },
  {
   "cell_type": "markdown",
   "id": "58d5865d-909b-45ed-b712-7855a85e5b83",
   "metadata": {},
   "source": [
    "## Trivariate Analysis on Total working years\n",
    "### Compare the attrition with respect to total years of experience for males and females in the company."
   ]
  },
  {
   "cell_type": "code",
   "execution_count": 46,
   "id": "9f6cbd1e-a6ff-4228-bfbe-4b14ac53a213",
   "metadata": {
    "execution": {
     "iopub.execute_input": "2022-09-29T14:41:38.018084Z",
     "iopub.status.busy": "2022-09-29T14:41:38.017893Z",
     "iopub.status.idle": "2022-09-29T14:42:07.433588Z",
     "shell.execute_reply": "2022-09-29T14:42:07.432975Z",
     "shell.execute_reply.started": "2022-09-29T14:41:38.018062Z"
    }
   },
   "outputs": [
    {
     "data": {
      "application/vnd.jupyter.widget-view+json": {
       "model_id": "e4e5da10209f46ba848b7b5f4af8e367",
       "version_major": 2,
       "version_minor": 0
      },
      "text/plain": [
       "VBox()"
      ]
     },
     "metadata": {},
     "output_type": "display_data"
    },
    {
     "data": {
      "application/vnd.jupyter.widget-view+json": {
       "model_id": "",
       "version_major": 2,
       "version_minor": 0
      },
      "text/plain": [
       "FloatProgress(value=0.0, bar_style='info', description='Progress:', layout=Layout(height='25px', width='50%'),…"
      ]
     },
     "metadata": {},
     "output_type": "display_data"
    },
    {
     "name": "stdout",
     "output_type": "stream",
     "text": [
      "+-----------------+---------+------+--------+\n",
      "|TotalWorkingYears|attrition|gender|count(1)|\n",
      "+-----------------+---------+------+--------+\n",
      "|                0|       No|Female|       1|\n",
      "|                0|       No|  Male|       3|\n",
      "|                0|      Yes|  Male|       2|\n",
      "|                1|       No|Female|    3268|\n",
      "|                1|       No|  Male|    5473|\n",
      "|                1|      Yes|Female|    2197|\n",
      "|                1|      Yes|  Male|    4340|\n",
      "|                2|       No|Female|    2800|\n",
      "|                2|       No|  Male|    4771|\n",
      "|                2|      Yes|Female|   15787|\n",
      "|                2|      Yes|  Male|   25070|\n",
      "|                3|       No|Female|    2324|\n",
      "|                3|       No|  Male|    4026|\n",
      "|                3|      Yes|Female|    1259|\n",
      "|                3|      Yes|  Male|    2545|\n",
      "|                4|       No|Female|    2841|\n",
      "|                4|       No|  Male|    4742|\n",
      "|                4|      Yes|Female|    1693|\n",
      "|                4|      Yes|  Male|    3520|\n",
      "|                5|       No|Female|    5580|\n",
      "|                5|       No|  Male|    9563|\n",
      "|                5|      Yes|Female|   18967|\n",
      "|                5|      Yes|  Male|   30167|\n",
      "|                6|       No|Female|    3846|\n",
      "|                6|       No|  Male|    6463|\n",
      "|                6|      Yes|Female|    2643|\n",
      "|                6|      Yes|  Male|    4902|\n",
      "|                7|       No|Female|    5327|\n",
      "|                7|       No|  Male|    9730|\n",
      "|                7|      Yes|Female|    2606|\n",
      "|                7|      Yes|  Male|    5045|\n",
      "|                8|       No|Female|    3634|\n",
      "|                8|       No|  Male|    6405|\n",
      "|                8|      Yes|Female|    2597|\n",
      "|                8|      Yes|  Male|    4931|\n",
      "|                9|       No|Female|    3640|\n",
      "|                9|       No|  Male|    6398|\n",
      "|                9|      Yes|Female|    2671|\n",
      "|                9|      Yes|  Male|    5098|\n",
      "|               10|       No|Female|    3199|\n",
      "|               10|       No|  Male|    5411|\n",
      "|               10|      Yes|Female|    2225|\n",
      "|               10|      Yes|  Male|    4344|\n",
      "|               11|       No|Female|    4106|\n",
      "|               11|       No|  Male|    7110|\n",
      "|               11|      Yes|Female|    3092|\n",
      "|               11|      Yes|  Male|    6038|\n",
      "|               12|       No|Female|    3287|\n",
      "|               12|       No|  Male|    5428|\n",
      "|               12|      Yes|Female|    2199|\n",
      "|               12|      Yes|  Male|    4375|\n",
      "|               13|       No|Female|    2490|\n",
      "|               13|       No|  Male|    4109|\n",
      "|               13|      Yes|Female|    1315|\n",
      "|               13|      Yes|  Male|    2715|\n",
      "|               14|       No|Female|    3290|\n",
      "|               14|       No|  Male|    5411|\n",
      "|               14|      Yes|Female|    2163|\n",
      "|               14|      Yes|  Male|    4410|\n",
      "|               15|       No|Female|    3316|\n",
      "|               15|       No|  Male|    5481|\n",
      "|               15|      Yes|Female|    2245|\n",
      "|               15|      Yes|  Male|    4311|\n",
      "|               16|       No|Female|    3285|\n",
      "|               16|       No|  Male|    5518|\n",
      "|               16|      Yes|Female|    2169|\n",
      "|               16|      Yes|  Male|    4393|\n",
      "|               17|       No|Female|    3278|\n",
      "|               17|       No|  Male|    5650|\n",
      "|               17|      Yes|Female|    2208|\n",
      "|               17|      Yes|  Male|    4297|\n",
      "|               18|       No|Female|    4182|\n",
      "|               18|       No|  Male|    7151|\n",
      "|               18|      Yes|Female|    2194|\n",
      "|               18|      Yes|  Male|    4280|\n",
      "|               19|       No|Female|    4079|\n",
      "|               19|       No|  Male|    7061|\n",
      "|               19|      Yes|Female|    2256|\n",
      "|               19|      Yes|  Male|    4344|\n",
      "|               20|       No|Female|    3670|\n",
      "|               20|       No|  Male|    6354|\n",
      "|               20|      Yes|Female|    1695|\n",
      "|               20|      Yes|  Male|    3449|\n",
      "|               21|       No|Female|    4046|\n",
      "|               21|       No|  Male|    7090|\n",
      "|               21|      Yes|Female|    2063|\n",
      "|               21|      Yes|  Male|    4443|\n",
      "|               22|       No|Female|    3685|\n",
      "|               22|       No|  Male|    6355|\n",
      "|               22|      Yes|Female|    1709|\n",
      "|               22|      Yes|  Male|    3598|\n",
      "|               23|       No|Female|    3263|\n",
      "|               23|       No|  Male|    5627|\n",
      "|               23|      Yes|Female|    1253|\n",
      "|               23|      Yes|  Male|    2649|\n",
      "|               24|       No|Female|    3474|\n",
      "|               24|       No|  Male|    6536|\n",
      "|               24|      Yes|Female|    1638|\n",
      "|               24|      Yes|  Male|    3576|\n",
      "|               25|       No|Female|    6239|\n",
      "|               25|       No|  Male|   11053|\n",
      "|               25|      Yes|Female|    1742|\n",
      "|               25|      Yes|  Male|    3587|\n",
      "|               26|       No|Female|   10728|\n",
      "|               26|       No|  Male|   18919|\n",
      "|               26|      Yes|Female|    1733|\n",
      "|               26|      Yes|  Male|    3529|\n",
      "|               27|       No|Female|    4524|\n",
      "|               27|       No|  Male|    7893|\n",
      "|               27|      Yes|Female|    1786|\n",
      "|               27|      Yes|  Male|    3476|\n",
      "|               28|       No|Female|    5356|\n",
      "|               28|       No|  Male|    9569|\n",
      "|               28|      Yes|Female|    1772|\n",
      "|               28|      Yes|  Male|    3491|\n",
      "|               29|       No|Female|    4436|\n",
      "|               29|       No|  Male|    8077|\n",
      "|               29|      Yes|Female|    1656|\n",
      "|               29|      Yes|  Male|    3484|\n",
      "|               30|       No|Female|    5007|\n",
      "|               30|       No|  Male|    8907|\n",
      "|               30|      Yes|Female|    1308|\n",
      "|               30|      Yes|  Male|    2674|\n",
      "|               31|       No|Female|    2417|\n",
      "|               31|       No|  Male|    4178|\n",
      "|               31|      Yes|Female|    1248|\n",
      "|               31|      Yes|  Male|    2577|\n",
      "|               32|       No|Female|    3236|\n",
      "|               32|       No|  Male|    5560|\n",
      "|               32|      Yes|Female|    1226|\n",
      "|               32|      Yes|  Male|    2710|\n",
      "|               33|       No|Female|    2323|\n",
      "|               33|       No|  Male|    4067|\n",
      "|               33|      Yes|Female|    1275|\n",
      "|               33|      Yes|  Male|    2628|\n",
      "|               34|       No|Female|    2398|\n",
      "|               34|       No|  Male|    4022|\n",
      "|               34|      Yes|Female|    1258|\n",
      "|               34|      Yes|  Male|    2678|\n",
      "|               35|       No|Female|    2502|\n",
      "|               35|       No|  Male|    4046|\n",
      "|               35|      Yes|Female|    1269|\n",
      "|               35|      Yes|  Male|    2558|\n",
      "|               36|       No|Female|    2391|\n",
      "|               36|       No|  Male|    4120|\n",
      "|               36|      Yes|Female|    1259|\n",
      "|               36|      Yes|  Male|    2556|\n",
      "|               37|       No|Female|    2356|\n",
      "|               37|       No|  Male|    4140|\n",
      "|               37|      Yes|Female|    1246|\n",
      "|               37|      Yes|  Male|    2641|\n",
      "|               38|       No|Female|    2442|\n",
      "|               38|       No|  Male|    4061|\n",
      "|               38|      Yes|Female|    1220|\n",
      "|               38|      Yes|  Male|    2810|\n",
      "|               39|       No|Female|    2418|\n",
      "|               39|       No|  Male|    4017|\n",
      "|               39|      Yes|Female|    1275|\n",
      "|               39|      Yes|  Male|    2791|\n",
      "|               40|       No|Female|    2873|\n",
      "|               40|       No|  Male|    4865|\n",
      "|               40|      Yes|Female|    1696|\n",
      "|               40|      Yes|  Male|    3531|\n",
      "+-----------------+---------+------+--------+"
     ]
    }
   ],
   "source": [
    "spark.sql(\"SELECT TotalWorkingYears,attrition,gender,COUNT(*) FROM res GROUP BY TotalWorkingYears,attrition,gender ORDER BY TotalWorkingYears,attrition,gender\").show(500)"
   ]
  },
  {
   "cell_type": "markdown",
   "id": "ef3fbb5e-feef-4b39-a1c1-343d0a6dd3be",
   "metadata": {},
   "source": [
    "## OVERTIME\n",
    "### Univariate Analysis of Overtime\n",
    "### Show the distribution of overtime done by the employees."
   ]
  },
  {
   "cell_type": "code",
   "execution_count": 47,
   "id": "33edf1ff-97a8-465b-b7ee-8a44ed79b71e",
   "metadata": {
    "execution": {
     "iopub.execute_input": "2022-09-29T14:42:07.434684Z",
     "iopub.status.busy": "2022-09-29T14:42:07.434507Z",
     "iopub.status.idle": "2022-09-29T14:42:38.866319Z",
     "shell.execute_reply": "2022-09-29T14:42:38.865595Z",
     "shell.execute_reply.started": "2022-09-29T14:42:07.434662Z"
    }
   },
   "outputs": [
    {
     "data": {
      "application/vnd.jupyter.widget-view+json": {
       "model_id": "7d3758d513a6469aac9205a987d8bc08",
       "version_major": 2,
       "version_minor": 0
      },
      "text/plain": [
       "VBox()"
      ]
     },
     "metadata": {},
     "output_type": "display_data"
    },
    {
     "data": {
      "application/vnd.jupyter.widget-view+json": {
       "model_id": "",
       "version_major": 2,
       "version_minor": 0
      },
      "text/plain": [
       "FloatProgress(value=0.0, bar_style='info', description='Progress:', layout=Layout(height='25px', width='50%'),…"
      ]
     },
     "metadata": {},
     "output_type": "display_data"
    },
    {
     "name": "stdout",
     "output_type": "stream",
     "text": [
      "+--------+--------+\n",
      "|overtime|count(1)|\n",
      "+--------+--------+\n",
      "|     Yes|  347867|\n",
      "|      No|  353426|\n",
      "+--------+--------+"
     ]
    }
   ],
   "source": [
    "spark.sql(\"SELECT overtime,COUNT(*) FROM res GROUP BY overtime\").show()"
   ]
  },
  {
   "cell_type": "markdown",
   "id": "052bce8f-f3de-4830-961a-bfafd13cc863",
   "metadata": {},
   "source": [
    "### Bivariate Analysis of OverTime\n",
    "### Did the people who do over time attrited more?"
   ]
  },
  {
   "cell_type": "code",
   "execution_count": 48,
   "id": "f2511bda-ef2b-4cf9-a925-58d85e7ab4bf",
   "metadata": {
    "execution": {
     "iopub.execute_input": "2022-09-29T14:42:38.867333Z",
     "iopub.status.busy": "2022-09-29T14:42:38.867152Z",
     "iopub.status.idle": "2022-09-29T14:43:10.296142Z",
     "shell.execute_reply": "2022-09-29T14:43:10.295401Z",
     "shell.execute_reply.started": "2022-09-29T14:42:38.867312Z"
    }
   },
   "outputs": [
    {
     "data": {
      "application/vnd.jupyter.widget-view+json": {
       "model_id": "c9c0074b8e554d328e82603f4ad65d22",
       "version_major": 2,
       "version_minor": 0
      },
      "text/plain": [
       "VBox()"
      ]
     },
     "metadata": {},
     "output_type": "display_data"
    },
    {
     "data": {
      "application/vnd.jupyter.widget-view+json": {
       "model_id": "",
       "version_major": 2,
       "version_minor": 0
      },
      "text/plain": [
       "FloatProgress(value=0.0, bar_style='info', description='Progress:', layout=Layout(height='25px', width='50%'),…"
      ]
     },
     "metadata": {},
     "output_type": "display_data"
    },
    {
     "name": "stdout",
     "output_type": "stream",
     "text": [
      "+--------+---------+--------+\n",
      "|overtime|attrition|count(1)|\n",
      "+--------+---------+--------+\n",
      "|      No|       No|  203303|\n",
      "|      No|      Yes|  150123|\n",
      "|     Yes|       No|  199614|\n",
      "|     Yes|      Yes|  148253|\n",
      "+--------+---------+--------+"
     ]
    }
   ],
   "source": [
    "spark.sql(\"SELECT overtime,attrition,COUNT(*) FROM res GROUP BY overtime,attrition ORDER BY overtime,attrition\").show()"
   ]
  },
  {
   "cell_type": "markdown",
   "id": "327839da-3584-41c7-957a-ec0fbb92733e",
   "metadata": {},
   "source": [
    "### What is the Worklife balance of people who did overtime and didn't do overtime?"
   ]
  },
  {
   "cell_type": "code",
   "execution_count": 49,
   "id": "cd9d6f94-76e7-44f5-adf7-d196786e3dc7",
   "metadata": {
    "execution": {
     "iopub.execute_input": "2022-09-29T14:43:10.297756Z",
     "iopub.status.busy": "2022-09-29T14:43:10.297313Z",
     "iopub.status.idle": "2022-09-29T14:43:43.743440Z",
     "shell.execute_reply": "2022-09-29T14:43:43.742784Z",
     "shell.execute_reply.started": "2022-09-29T14:43:10.297719Z"
    }
   },
   "outputs": [
    {
     "data": {
      "application/vnd.jupyter.widget-view+json": {
       "model_id": "fa9db153aa36402c96de77ce3bd83c94",
       "version_major": 2,
       "version_minor": 0
      },
      "text/plain": [
       "VBox()"
      ]
     },
     "metadata": {},
     "output_type": "display_data"
    },
    {
     "data": {
      "application/vnd.jupyter.widget-view+json": {
       "model_id": "",
       "version_major": 2,
       "version_minor": 0
      },
      "text/plain": [
       "FloatProgress(value=0.0, bar_style='info', description='Progress:', layout=Layout(height='25px', width='50%'),…"
      ]
     },
     "metadata": {},
     "output_type": "display_data"
    },
    {
     "name": "stdout",
     "output_type": "stream",
     "text": [
      "+--------+---------------+--------+\n",
      "|overtime|WorkLifeBalance|count(1)|\n",
      "+--------+---------------+--------+\n",
      "|      No|              1|  209324|\n",
      "|      No|              2|   63566|\n",
      "|      No|              3|   40524|\n",
      "|      No|              4|   40012|\n",
      "|     Yes|              1|  205184|\n",
      "|     Yes|              2|   63418|\n",
      "|     Yes|              3|   39584|\n",
      "|     Yes|              4|   39681|\n",
      "+--------+---------------+--------+"
     ]
    }
   ],
   "source": [
    "spark.sql(\"SELECT overtime,WorkLifeBalance,count(*) FROM res GROUP BY overtime,WorkLifeBalance ORDER BY overtime,WorkLifeBalance\").show()"
   ]
  },
  {
   "cell_type": "markdown",
   "id": "684f3b28-c2b5-4d31-95c4-74e45600d32f",
   "metadata": {},
   "source": [
    "### Compare the job satisfaction for people doing overtime and not doing overtime."
   ]
  },
  {
   "cell_type": "code",
   "execution_count": 50,
   "id": "2724989b-ba8a-471b-b925-93552cc4944b",
   "metadata": {
    "execution": {
     "iopub.execute_input": "2022-09-29T14:43:43.744503Z",
     "iopub.status.busy": "2022-09-29T14:43:43.744341Z",
     "iopub.status.idle": "2022-09-29T14:44:17.184386Z",
     "shell.execute_reply": "2022-09-29T14:44:17.183649Z",
     "shell.execute_reply.started": "2022-09-29T14:43:43.744482Z"
    }
   },
   "outputs": [
    {
     "data": {
      "application/vnd.jupyter.widget-view+json": {
       "model_id": "40fc36535dc94be9a8f426cc0a30c36c",
       "version_major": 2,
       "version_minor": 0
      },
      "text/plain": [
       "VBox()"
      ]
     },
     "metadata": {},
     "output_type": "display_data"
    },
    {
     "data": {
      "application/vnd.jupyter.widget-view+json": {
       "model_id": "",
       "version_major": 2,
       "version_minor": 0
      },
      "text/plain": [
       "FloatProgress(value=0.0, bar_style='info', description='Progress:', layout=Layout(height='25px', width='50%'),…"
      ]
     },
     "metadata": {},
     "output_type": "display_data"
    },
    {
     "name": "stdout",
     "output_type": "stream",
     "text": [
      "+--------+---------------+--------+\n",
      "|overtime|JobSatisfaction|count(1)|\n",
      "+--------+---------------+--------+\n",
      "|      No|              1|  174681|\n",
      "|      No|              2|   88190|\n",
      "|      No|              3|   51570|\n",
      "|      No|              4|   38985|\n",
      "|     Yes|              1|  172167|\n",
      "|     Yes|              2|   86467|\n",
      "|     Yes|              3|   50619|\n",
      "|     Yes|              4|   38614|\n",
      "+--------+---------------+--------+"
     ]
    }
   ],
   "source": [
    "spark.sql(\"SELECT overtime,JobSatisfaction,count(*) FROM res GROUP BY overtime,JobSatisfaction ORDER BY overtime,JobSatisfaction\").show()"
   ]
  },
  {
   "cell_type": "markdown",
   "id": "31f03ff9-9ba4-4d69-823f-0e8bf2ac2cef",
   "metadata": {},
   "source": [
    "## Years In Current Role\n",
    "### Univariate Analysis on Years in current role"
   ]
  },
  {
   "cell_type": "code",
   "execution_count": 51,
   "id": "fafedab2-6b30-4a62-ae33-60231c762996",
   "metadata": {
    "execution": {
     "iopub.execute_input": "2022-09-29T14:44:17.185605Z",
     "iopub.status.busy": "2022-09-29T14:44:17.185423Z",
     "iopub.status.idle": "2022-09-29T14:44:48.614665Z",
     "shell.execute_reply": "2022-09-29T14:44:48.613909Z",
     "shell.execute_reply.started": "2022-09-29T14:44:17.185583Z"
    }
   },
   "outputs": [
    {
     "data": {
      "application/vnd.jupyter.widget-view+json": {
       "model_id": "7a1772c7a7a6417eb57c1791b5f13ed9",
       "version_major": 2,
       "version_minor": 0
      },
      "text/plain": [
       "VBox()"
      ]
     },
     "metadata": {},
     "output_type": "display_data"
    },
    {
     "data": {
      "application/vnd.jupyter.widget-view+json": {
       "model_id": "",
       "version_major": 2,
       "version_minor": 0
      },
      "text/plain": [
       "FloatProgress(value=0.0, bar_style='info', description='Progress:', layout=Layout(height='25px', width='50%'),…"
      ]
     },
     "metadata": {},
     "output_type": "display_data"
    },
    {
     "name": "stdout",
     "output_type": "stream",
     "text": [
      "+------------------+--------+\n",
      "|YearsInCurrentRole|count(1)|\n",
      "+------------------+--------+\n",
      "|                 0|     157|\n",
      "|                 1|  162130|\n",
      "|                 2|  121867|\n",
      "|                 3|   61094|\n",
      "|                 4|   54850|\n",
      "|                 5|   43921|\n",
      "|                 6|   36369|\n",
      "|                 7|   30527|\n",
      "|                 8|   25829|\n",
      "|                 9|   22042|\n",
      "|                10|   19097|\n",
      "|                11|   18495|\n",
      "|                12|   14546|\n",
      "|                13|   10867|\n",
      "|                14|   11096|\n",
      "|                15|    9626|\n",
      "|                16|    8415|\n",
      "|                17|    7379|\n",
      "|                18|    6532|\n",
      "|                19|    5744|\n",
      "|                20|    4959|\n",
      "|                21|    4702|\n",
      "|                22|    3596|\n",
      "|                23|    2699|\n",
      "|                24|    2717|\n",
      "|                25|    2358|\n",
      "|                26|    1957|\n",
      "|                27|    1771|\n",
      "|                28|    1406|\n",
      "|                29|    1255|\n",
      "|                30|     850|\n",
      "|                31|     618|\n",
      "|                32|     544|\n",
      "|                33|     409|\n",
      "|                34|     314|\n",
      "|                35|     208|\n",
      "|                36|     153|\n",
      "|                37|      94|\n",
      "|                38|      58|\n",
      "|                39|      32|\n",
      "|                40|      10|\n",
      "+------------------+--------+"
     ]
    }
   ],
   "source": [
    "spark.sql(\"SELECT YearsInCurrentRole,COUNT(*) FROM res GROUP BY YearsInCurrentRole ORDER BY YearsInCurrentRole\").show(50)"
   ]
  },
  {
   "cell_type": "markdown",
   "id": "fa575d52-7efa-496c-a152-ea7b3afc3a6a",
   "metadata": {},
   "source": [
    "### Bivariate Analysis on Years in Current Role\n",
    "### who are the people getting attrited in the years in current role category?"
   ]
  },
  {
   "cell_type": "code",
   "execution_count": 52,
   "id": "a12cb97a-ac18-4ac8-980b-cf937da963a9",
   "metadata": {
    "execution": {
     "iopub.execute_input": "2022-09-29T14:44:48.615796Z",
     "iopub.status.busy": "2022-09-29T14:44:48.615619Z",
     "iopub.status.idle": "2022-09-29T14:45:20.043125Z",
     "shell.execute_reply": "2022-09-29T14:45:20.042435Z",
     "shell.execute_reply.started": "2022-09-29T14:44:48.615775Z"
    }
   },
   "outputs": [
    {
     "data": {
      "application/vnd.jupyter.widget-view+json": {
       "model_id": "f35e4873b4a14b308d56fc7ca43a62da",
       "version_major": 2,
       "version_minor": 0
      },
      "text/plain": [
       "VBox()"
      ]
     },
     "metadata": {},
     "output_type": "display_data"
    },
    {
     "data": {
      "application/vnd.jupyter.widget-view+json": {
       "model_id": "",
       "version_major": 2,
       "version_minor": 0
      },
      "text/plain": [
       "FloatProgress(value=0.0, bar_style='info', description='Progress:', layout=Layout(height='25px', width='50%'),…"
      ]
     },
     "metadata": {},
     "output_type": "display_data"
    },
    {
     "name": "stdout",
     "output_type": "stream",
     "text": [
      "+---------+-----------------------+--------+\n",
      "|attrition|avg(YearsInCurrentRole)|count(1)|\n",
      "+---------+-----------------------+--------+\n",
      "|      Yes|      5.882929592192402|  298376|\n",
      "|       No|      5.833940985364231|  402917|\n",
      "+---------+-----------------------+--------+"
     ]
    }
   ],
   "source": [
    "spark.sql(\"SELECT attrition,AVG(YearsInCurrentRole),COUNT(*) FROM res GROUP BY attrition\").show()"
   ]
  },
  {
   "cell_type": "markdown",
   "id": "c92efae4-5b96-49df-94b3-609d04d016c4",
   "metadata": {},
   "source": [
    "### What is the total years of experience of the employee who have spent a long time in the same role (in company)currently?"
   ]
  },
  {
   "cell_type": "code",
   "execution_count": 53,
   "id": "c857ecab-c7ca-4383-9ba2-458b7fb8ed58",
   "metadata": {
    "execution": {
     "iopub.execute_input": "2022-09-29T14:45:20.044229Z",
     "iopub.status.busy": "2022-09-29T14:45:20.044052Z",
     "iopub.status.idle": "2022-09-29T14:46:19.590716Z",
     "shell.execute_reply": "2022-09-29T14:46:19.589998Z",
     "shell.execute_reply.started": "2022-09-29T14:45:20.044207Z"
    },
    "tags": []
   },
   "outputs": [
    {
     "data": {
      "application/vnd.jupyter.widget-view+json": {
       "model_id": "6bd0873c1271416c95af39ba3f9c2168",
       "version_major": 2,
       "version_minor": 0
      },
      "text/plain": [
       "VBox()"
      ]
     },
     "metadata": {},
     "output_type": "display_data"
    },
    {
     "data": {
      "application/vnd.jupyter.widget-view+json": {
       "model_id": "",
       "version_major": 2,
       "version_minor": 0
      },
      "text/plain": [
       "FloatProgress(value=0.0, bar_style='info', description='Progress:', layout=Layout(height='25px', width='50%'),…"
      ]
     },
     "metadata": {},
     "output_type": "display_data"
    },
    {
     "name": "stdout",
     "output_type": "stream",
     "text": [
      "+-----------------+------------------+--------+\n",
      "|TotalWorkingYears|YearsInCurrentRole|count(1)|\n",
      "+-----------------+------------------+--------+\n",
      "|                5|                40|       1|\n",
      "|               40|                40|       9|\n",
      "+-----------------+------------------+--------+"
     ]
    }
   ],
   "source": [
    "spark.sql(\"SELECT TotalWorkingYears,YearsInCurrentRole,COUNT(*) FROM res WHERE YearsInCurrentRole=(SELECT MAX(YearsInCurrentRole) FROM res) GROUP BY TotalWorkingYears,YearsInCurrentRole ORDER BY TotalWorkingYears\").show(50)"
   ]
  },
  {
   "cell_type": "markdown",
   "id": "54ff7512-d0c2-48a9-8c63-9d84fbec86b2",
   "metadata": {},
   "source": [
    "### Who are the people who got attrited in the Years in current role category?"
   ]
  },
  {
   "cell_type": "code",
   "execution_count": 54,
   "id": "a729faf0-6bc3-475e-8221-7cd80bcca083",
   "metadata": {
    "execution": {
     "iopub.execute_input": "2022-09-29T14:46:19.591804Z",
     "iopub.status.busy": "2022-09-29T14:46:19.591626Z",
     "iopub.status.idle": "2022-09-29T14:46:50.996630Z",
     "shell.execute_reply": "2022-09-29T14:46:50.995826Z",
     "shell.execute_reply.started": "2022-09-29T14:46:19.591782Z"
    }
   },
   "outputs": [
    {
     "data": {
      "application/vnd.jupyter.widget-view+json": {
       "model_id": "978cc44649ff464b99de23487984915e",
       "version_major": 2,
       "version_minor": 0
      },
      "text/plain": [
       "VBox()"
      ]
     },
     "metadata": {},
     "output_type": "display_data"
    },
    {
     "data": {
      "application/vnd.jupyter.widget-view+json": {
       "model_id": "",
       "version_major": 2,
       "version_minor": 0
      },
      "text/plain": [
       "FloatProgress(value=0.0, bar_style='info', description='Progress:', layout=Layout(height='25px', width='50%'),…"
      ]
     },
     "metadata": {},
     "output_type": "display_data"
    },
    {
     "name": "stdout",
     "output_type": "stream",
     "text": [
      "+---------+------------------+--------+\n",
      "|attrition|YearsInCurrentRole|count(1)|\n",
      "+---------+------------------+--------+\n",
      "|       No|                 0|     112|\n",
      "|       No|                 1|  104678|\n",
      "|       No|                 2|   57328|\n",
      "|       No|                 3|   36341|\n",
      "|       No|                 4|   31490|\n",
      "|       No|                 5|   24890|\n",
      "|       No|                 6|   21100|\n",
      "|       No|                 7|   17550|\n",
      "|       No|                 8|   14890|\n",
      "|       No|                 9|   12694|\n",
      "|       No|                10|   10891|\n",
      "|       No|                11|   10493|\n",
      "|       No|                12|    8301|\n",
      "|       No|                13|    6474|\n",
      "|       No|                14|    6280|\n",
      "|       No|                15|    5566|\n",
      "|       No|                16|    4834|\n",
      "|       No|                17|    4222|\n",
      "|       No|                18|    3721|\n",
      "|       No|                19|    3266|\n",
      "|       No|                20|    2913|\n",
      "|       No|                21|    2678|\n",
      "|       No|                22|    2028|\n",
      "|       No|                23|    1579|\n",
      "|       No|                24|    1607|\n",
      "|       No|                25|    1381|\n",
      "|       No|                26|    1147|\n",
      "|       No|                27|    1001|\n",
      "|       No|                28|     789|\n",
      "|       No|                29|     743|\n",
      "|       No|                30|     509|\n",
      "|       No|                31|     362|\n",
      "|       No|                32|     325|\n",
      "|       No|                33|     223|\n",
      "|       No|                34|     185|\n",
      "|       No|                35|     122|\n",
      "|       No|                36|     101|\n",
      "|       No|                37|      53|\n",
      "|       No|                38|      29|\n",
      "|       No|                39|      18|\n",
      "|       No|                40|       3|\n",
      "|      Yes|                 0|      45|\n",
      "|      Yes|                 1|   57452|\n",
      "|      Yes|                 2|   64539|\n",
      "|      Yes|                 3|   24753|\n",
      "|      Yes|                 4|   23360|\n",
      "|      Yes|                 5|   19031|\n",
      "|      Yes|                 6|   15269|\n",
      "|      Yes|                 7|   12977|\n",
      "|      Yes|                 8|   10939|\n",
      "|      Yes|                 9|    9348|\n",
      "|      Yes|                10|    8206|\n",
      "|      Yes|                11|    8002|\n",
      "|      Yes|                12|    6245|\n",
      "|      Yes|                13|    4393|\n",
      "|      Yes|                14|    4816|\n",
      "|      Yes|                15|    4060|\n",
      "|      Yes|                16|    3581|\n",
      "|      Yes|                17|    3157|\n",
      "|      Yes|                18|    2811|\n",
      "|      Yes|                19|    2478|\n",
      "|      Yes|                20|    2046|\n",
      "|      Yes|                21|    2024|\n",
      "|      Yes|                22|    1568|\n",
      "|      Yes|                23|    1120|\n",
      "|      Yes|                24|    1110|\n",
      "|      Yes|                25|     977|\n",
      "|      Yes|                26|     810|\n",
      "|      Yes|                27|     770|\n",
      "|      Yes|                28|     617|\n",
      "|      Yes|                29|     512|\n",
      "|      Yes|                30|     341|\n",
      "|      Yes|                31|     256|\n",
      "|      Yes|                32|     219|\n",
      "|      Yes|                33|     186|\n",
      "|      Yes|                34|     129|\n",
      "|      Yes|                35|      86|\n",
      "|      Yes|                36|      52|\n",
      "|      Yes|                37|      41|\n",
      "|      Yes|                38|      29|\n",
      "|      Yes|                39|      14|\n",
      "|      Yes|                40|       7|\n",
      "+---------+------------------+--------+"
     ]
    }
   ],
   "source": [
    "spark.sql(\"SELECT attrition,YearsInCurrentRole,COUNT(*) FROM res GROUP BY attrition,YearsInCurrentRole ORDER BY attrition,YearsInCurrentRole\").show(500)"
   ]
  },
  {
   "cell_type": "code",
   "execution_count": null,
   "id": "ffe0ff97-6ad0-49ed-9f1a-0bc226f3e64c",
   "metadata": {},
   "outputs": [],
   "source": []
  }
 ],
 "metadata": {
  "kernelspec": {
   "display_name": "PySpark",
   "language": "python",
   "name": "pysparkkernel"
  },
  "language_info": {
   "codemirror_mode": {
    "name": "python",
    "version": 3
   },
   "file_extension": ".py",
   "mimetype": "text/x-python",
   "name": "pyspark",
   "pygments_lexer": "python3"
  }
 },
 "nbformat": 4,
 "nbformat_minor": 5
}
